{
 "cells": [
  {
   "cell_type": "code",
   "execution_count": 1,
   "id": "f51aeba5",
   "metadata": {},
   "outputs": [],
   "source": [
    "import pandas as pd\n",
    "import numpy as np\n",
    "import seaborn as sns\n",
    "import matplotlib.pyplot as plt"
   ]
  },
  {
   "cell_type": "code",
   "execution_count": 32,
   "id": "9e13e00a",
   "metadata": {},
   "outputs": [],
   "source": [
    "%matplotlib inline"
   ]
  },
  {
   "cell_type": "markdown",
   "id": "99130f5e",
   "metadata": {},
   "source": [
    "# CARGA DE DATOS"
   ]
  },
  {
   "cell_type": "code",
   "execution_count": 2,
   "id": "3dd936f1",
   "metadata": {},
   "outputs": [],
   "source": [
    "bikes = pd.read_csv('../data/bike_buyers.csv')"
   ]
  },
  {
   "cell_type": "code",
   "execution_count": 3,
   "id": "b392327e",
   "metadata": {},
   "outputs": [
    {
     "data": {
      "text/html": [
       "<div>\n",
       "<style scoped>\n",
       "    .dataframe tbody tr th:only-of-type {\n",
       "        vertical-align: middle;\n",
       "    }\n",
       "\n",
       "    .dataframe tbody tr th {\n",
       "        vertical-align: top;\n",
       "    }\n",
       "\n",
       "    .dataframe thead th {\n",
       "        text-align: right;\n",
       "    }\n",
       "</style>\n",
       "<table border=\"1\" class=\"dataframe\">\n",
       "  <thead>\n",
       "    <tr style=\"text-align: right;\">\n",
       "      <th></th>\n",
       "      <th>ID</th>\n",
       "      <th>Marital Status</th>\n",
       "      <th>Gender</th>\n",
       "      <th>Income</th>\n",
       "      <th>Children</th>\n",
       "      <th>Education</th>\n",
       "      <th>Occupation</th>\n",
       "      <th>Home Owner</th>\n",
       "      <th>Cars</th>\n",
       "      <th>Commute Distance</th>\n",
       "      <th>Region</th>\n",
       "      <th>Age</th>\n",
       "      <th>Purchased Bike</th>\n",
       "    </tr>\n",
       "  </thead>\n",
       "  <tbody>\n",
       "    <tr>\n",
       "      <th>0</th>\n",
       "      <td>12496</td>\n",
       "      <td>Married</td>\n",
       "      <td>Female</td>\n",
       "      <td>40000.0</td>\n",
       "      <td>1.0</td>\n",
       "      <td>Bachelors</td>\n",
       "      <td>Skilled Manual</td>\n",
       "      <td>Yes</td>\n",
       "      <td>0.0</td>\n",
       "      <td>0-1 Miles</td>\n",
       "      <td>Europe</td>\n",
       "      <td>42.0</td>\n",
       "      <td>No</td>\n",
       "    </tr>\n",
       "    <tr>\n",
       "      <th>1</th>\n",
       "      <td>24107</td>\n",
       "      <td>Married</td>\n",
       "      <td>Male</td>\n",
       "      <td>30000.0</td>\n",
       "      <td>3.0</td>\n",
       "      <td>Partial College</td>\n",
       "      <td>Clerical</td>\n",
       "      <td>Yes</td>\n",
       "      <td>1.0</td>\n",
       "      <td>0-1 Miles</td>\n",
       "      <td>Europe</td>\n",
       "      <td>43.0</td>\n",
       "      <td>No</td>\n",
       "    </tr>\n",
       "    <tr>\n",
       "      <th>2</th>\n",
       "      <td>14177</td>\n",
       "      <td>Married</td>\n",
       "      <td>Male</td>\n",
       "      <td>80000.0</td>\n",
       "      <td>5.0</td>\n",
       "      <td>Partial College</td>\n",
       "      <td>Professional</td>\n",
       "      <td>No</td>\n",
       "      <td>2.0</td>\n",
       "      <td>2-5 Miles</td>\n",
       "      <td>Europe</td>\n",
       "      <td>60.0</td>\n",
       "      <td>No</td>\n",
       "    </tr>\n",
       "    <tr>\n",
       "      <th>3</th>\n",
       "      <td>24381</td>\n",
       "      <td>Single</td>\n",
       "      <td>NaN</td>\n",
       "      <td>70000.0</td>\n",
       "      <td>0.0</td>\n",
       "      <td>Bachelors</td>\n",
       "      <td>Professional</td>\n",
       "      <td>Yes</td>\n",
       "      <td>1.0</td>\n",
       "      <td>5-10 Miles</td>\n",
       "      <td>Pacific</td>\n",
       "      <td>41.0</td>\n",
       "      <td>Yes</td>\n",
       "    </tr>\n",
       "    <tr>\n",
       "      <th>4</th>\n",
       "      <td>25597</td>\n",
       "      <td>Single</td>\n",
       "      <td>Male</td>\n",
       "      <td>30000.0</td>\n",
       "      <td>0.0</td>\n",
       "      <td>Bachelors</td>\n",
       "      <td>Clerical</td>\n",
       "      <td>No</td>\n",
       "      <td>0.0</td>\n",
       "      <td>0-1 Miles</td>\n",
       "      <td>Europe</td>\n",
       "      <td>36.0</td>\n",
       "      <td>Yes</td>\n",
       "    </tr>\n",
       "    <tr>\n",
       "      <th>5</th>\n",
       "      <td>13507</td>\n",
       "      <td>Married</td>\n",
       "      <td>Female</td>\n",
       "      <td>10000.0</td>\n",
       "      <td>2.0</td>\n",
       "      <td>Partial College</td>\n",
       "      <td>Manual</td>\n",
       "      <td>Yes</td>\n",
       "      <td>0.0</td>\n",
       "      <td>1-2 Miles</td>\n",
       "      <td>Europe</td>\n",
       "      <td>50.0</td>\n",
       "      <td>No</td>\n",
       "    </tr>\n",
       "    <tr>\n",
       "      <th>6</th>\n",
       "      <td>27974</td>\n",
       "      <td>Single</td>\n",
       "      <td>Male</td>\n",
       "      <td>160000.0</td>\n",
       "      <td>2.0</td>\n",
       "      <td>High School</td>\n",
       "      <td>Management</td>\n",
       "      <td>NaN</td>\n",
       "      <td>4.0</td>\n",
       "      <td>0-1 Miles</td>\n",
       "      <td>Pacific</td>\n",
       "      <td>33.0</td>\n",
       "      <td>Yes</td>\n",
       "    </tr>\n",
       "    <tr>\n",
       "      <th>7</th>\n",
       "      <td>19364</td>\n",
       "      <td>Married</td>\n",
       "      <td>Male</td>\n",
       "      <td>40000.0</td>\n",
       "      <td>1.0</td>\n",
       "      <td>Bachelors</td>\n",
       "      <td>Skilled Manual</td>\n",
       "      <td>Yes</td>\n",
       "      <td>0.0</td>\n",
       "      <td>0-1 Miles</td>\n",
       "      <td>Europe</td>\n",
       "      <td>43.0</td>\n",
       "      <td>Yes</td>\n",
       "    </tr>\n",
       "    <tr>\n",
       "      <th>8</th>\n",
       "      <td>22155</td>\n",
       "      <td>NaN</td>\n",
       "      <td>Male</td>\n",
       "      <td>20000.0</td>\n",
       "      <td>2.0</td>\n",
       "      <td>Partial High School</td>\n",
       "      <td>Clerical</td>\n",
       "      <td>Yes</td>\n",
       "      <td>2.0</td>\n",
       "      <td>5-10 Miles</td>\n",
       "      <td>Pacific</td>\n",
       "      <td>58.0</td>\n",
       "      <td>No</td>\n",
       "    </tr>\n",
       "    <tr>\n",
       "      <th>9</th>\n",
       "      <td>19280</td>\n",
       "      <td>Married</td>\n",
       "      <td>Male</td>\n",
       "      <td>NaN</td>\n",
       "      <td>2.0</td>\n",
       "      <td>Partial College</td>\n",
       "      <td>Manual</td>\n",
       "      <td>Yes</td>\n",
       "      <td>1.0</td>\n",
       "      <td>0-1 Miles</td>\n",
       "      <td>Europe</td>\n",
       "      <td>NaN</td>\n",
       "      <td>Yes</td>\n",
       "    </tr>\n",
       "  </tbody>\n",
       "</table>\n",
       "</div>"
      ],
      "text/plain": [
       "      ID Marital Status  Gender    Income  Children            Education  \\\n",
       "0  12496        Married  Female   40000.0       1.0            Bachelors   \n",
       "1  24107        Married    Male   30000.0       3.0      Partial College   \n",
       "2  14177        Married    Male   80000.0       5.0      Partial College   \n",
       "3  24381         Single     NaN   70000.0       0.0            Bachelors   \n",
       "4  25597         Single    Male   30000.0       0.0            Bachelors   \n",
       "5  13507        Married  Female   10000.0       2.0      Partial College   \n",
       "6  27974         Single    Male  160000.0       2.0          High School   \n",
       "7  19364        Married    Male   40000.0       1.0            Bachelors   \n",
       "8  22155            NaN    Male   20000.0       2.0  Partial High School   \n",
       "9  19280        Married    Male       NaN       2.0      Partial College   \n",
       "\n",
       "       Occupation Home Owner  Cars Commute Distance   Region   Age  \\\n",
       "0  Skilled Manual        Yes   0.0        0-1 Miles   Europe  42.0   \n",
       "1        Clerical        Yes   1.0        0-1 Miles   Europe  43.0   \n",
       "2    Professional         No   2.0        2-5 Miles   Europe  60.0   \n",
       "3    Professional        Yes   1.0       5-10 Miles  Pacific  41.0   \n",
       "4        Clerical         No   0.0        0-1 Miles   Europe  36.0   \n",
       "5          Manual        Yes   0.0        1-2 Miles   Europe  50.0   \n",
       "6      Management        NaN   4.0        0-1 Miles  Pacific  33.0   \n",
       "7  Skilled Manual        Yes   0.0        0-1 Miles   Europe  43.0   \n",
       "8        Clerical        Yes   2.0       5-10 Miles  Pacific  58.0   \n",
       "9          Manual        Yes   1.0        0-1 Miles   Europe   NaN   \n",
       "\n",
       "  Purchased Bike  \n",
       "0             No  \n",
       "1             No  \n",
       "2             No  \n",
       "3            Yes  \n",
       "4            Yes  \n",
       "5             No  \n",
       "6            Yes  \n",
       "7            Yes  \n",
       "8             No  \n",
       "9            Yes  "
      ]
     },
     "execution_count": 3,
     "metadata": {},
     "output_type": "execute_result"
    }
   ],
   "source": [
    "bikes.head(10)"
   ]
  },
  {
   "cell_type": "markdown",
   "id": "63b47b1f",
   "metadata": {},
   "source": [
    "# INSPECCIÓN DE DATOS"
   ]
  },
  {
   "cell_type": "code",
   "execution_count": 4,
   "id": "c05fe551",
   "metadata": {},
   "outputs": [
    {
     "data": {
      "text/plain": [
       "1000"
      ]
     },
     "execution_count": 4,
     "metadata": {},
     "output_type": "execute_result"
    }
   ],
   "source": [
    "bikes['ID'].nunique()"
   ]
  },
  {
   "cell_type": "markdown",
   "id": "c6b51f0d",
   "metadata": {},
   "source": [
    "**SE VALIDÓ QUE TODO LOS ID's SON ÚNICOS PARA ESTABLECERLO COMO INDICES EN EL DATAFRAME**"
   ]
  },
  {
   "cell_type": "code",
   "execution_count": 5,
   "id": "6d175983",
   "metadata": {},
   "outputs": [],
   "source": [
    "bikes.set_index('ID',inplace=True)"
   ]
  },
  {
   "cell_type": "code",
   "execution_count": 6,
   "id": "122f989d",
   "metadata": {
    "scrolled": true
   },
   "outputs": [
    {
     "data": {
      "text/html": [
       "<div>\n",
       "<style scoped>\n",
       "    .dataframe tbody tr th:only-of-type {\n",
       "        vertical-align: middle;\n",
       "    }\n",
       "\n",
       "    .dataframe tbody tr th {\n",
       "        vertical-align: top;\n",
       "    }\n",
       "\n",
       "    .dataframe thead th {\n",
       "        text-align: right;\n",
       "    }\n",
       "</style>\n",
       "<table border=\"1\" class=\"dataframe\">\n",
       "  <thead>\n",
       "    <tr style=\"text-align: right;\">\n",
       "      <th></th>\n",
       "      <th>Marital Status</th>\n",
       "      <th>Gender</th>\n",
       "      <th>Income</th>\n",
       "      <th>Children</th>\n",
       "      <th>Education</th>\n",
       "      <th>Occupation</th>\n",
       "      <th>Home Owner</th>\n",
       "      <th>Cars</th>\n",
       "      <th>Commute Distance</th>\n",
       "      <th>Region</th>\n",
       "      <th>Age</th>\n",
       "      <th>Purchased Bike</th>\n",
       "    </tr>\n",
       "    <tr>\n",
       "      <th>ID</th>\n",
       "      <th></th>\n",
       "      <th></th>\n",
       "      <th></th>\n",
       "      <th></th>\n",
       "      <th></th>\n",
       "      <th></th>\n",
       "      <th></th>\n",
       "      <th></th>\n",
       "      <th></th>\n",
       "      <th></th>\n",
       "      <th></th>\n",
       "      <th></th>\n",
       "    </tr>\n",
       "  </thead>\n",
       "  <tbody>\n",
       "    <tr>\n",
       "      <th>12496</th>\n",
       "      <td>Married</td>\n",
       "      <td>Female</td>\n",
       "      <td>40000.0</td>\n",
       "      <td>1.0</td>\n",
       "      <td>Bachelors</td>\n",
       "      <td>Skilled Manual</td>\n",
       "      <td>Yes</td>\n",
       "      <td>0.0</td>\n",
       "      <td>0-1 Miles</td>\n",
       "      <td>Europe</td>\n",
       "      <td>42.0</td>\n",
       "      <td>No</td>\n",
       "    </tr>\n",
       "    <tr>\n",
       "      <th>24107</th>\n",
       "      <td>Married</td>\n",
       "      <td>Male</td>\n",
       "      <td>30000.0</td>\n",
       "      <td>3.0</td>\n",
       "      <td>Partial College</td>\n",
       "      <td>Clerical</td>\n",
       "      <td>Yes</td>\n",
       "      <td>1.0</td>\n",
       "      <td>0-1 Miles</td>\n",
       "      <td>Europe</td>\n",
       "      <td>43.0</td>\n",
       "      <td>No</td>\n",
       "    </tr>\n",
       "    <tr>\n",
       "      <th>14177</th>\n",
       "      <td>Married</td>\n",
       "      <td>Male</td>\n",
       "      <td>80000.0</td>\n",
       "      <td>5.0</td>\n",
       "      <td>Partial College</td>\n",
       "      <td>Professional</td>\n",
       "      <td>No</td>\n",
       "      <td>2.0</td>\n",
       "      <td>2-5 Miles</td>\n",
       "      <td>Europe</td>\n",
       "      <td>60.0</td>\n",
       "      <td>No</td>\n",
       "    </tr>\n",
       "    <tr>\n",
       "      <th>24381</th>\n",
       "      <td>Single</td>\n",
       "      <td>NaN</td>\n",
       "      <td>70000.0</td>\n",
       "      <td>0.0</td>\n",
       "      <td>Bachelors</td>\n",
       "      <td>Professional</td>\n",
       "      <td>Yes</td>\n",
       "      <td>1.0</td>\n",
       "      <td>5-10 Miles</td>\n",
       "      <td>Pacific</td>\n",
       "      <td>41.0</td>\n",
       "      <td>Yes</td>\n",
       "    </tr>\n",
       "    <tr>\n",
       "      <th>25597</th>\n",
       "      <td>Single</td>\n",
       "      <td>Male</td>\n",
       "      <td>30000.0</td>\n",
       "      <td>0.0</td>\n",
       "      <td>Bachelors</td>\n",
       "      <td>Clerical</td>\n",
       "      <td>No</td>\n",
       "      <td>0.0</td>\n",
       "      <td>0-1 Miles</td>\n",
       "      <td>Europe</td>\n",
       "      <td>36.0</td>\n",
       "      <td>Yes</td>\n",
       "    </tr>\n",
       "    <tr>\n",
       "      <th>13507</th>\n",
       "      <td>Married</td>\n",
       "      <td>Female</td>\n",
       "      <td>10000.0</td>\n",
       "      <td>2.0</td>\n",
       "      <td>Partial College</td>\n",
       "      <td>Manual</td>\n",
       "      <td>Yes</td>\n",
       "      <td>0.0</td>\n",
       "      <td>1-2 Miles</td>\n",
       "      <td>Europe</td>\n",
       "      <td>50.0</td>\n",
       "      <td>No</td>\n",
       "    </tr>\n",
       "    <tr>\n",
       "      <th>27974</th>\n",
       "      <td>Single</td>\n",
       "      <td>Male</td>\n",
       "      <td>160000.0</td>\n",
       "      <td>2.0</td>\n",
       "      <td>High School</td>\n",
       "      <td>Management</td>\n",
       "      <td>NaN</td>\n",
       "      <td>4.0</td>\n",
       "      <td>0-1 Miles</td>\n",
       "      <td>Pacific</td>\n",
       "      <td>33.0</td>\n",
       "      <td>Yes</td>\n",
       "    </tr>\n",
       "    <tr>\n",
       "      <th>19364</th>\n",
       "      <td>Married</td>\n",
       "      <td>Male</td>\n",
       "      <td>40000.0</td>\n",
       "      <td>1.0</td>\n",
       "      <td>Bachelors</td>\n",
       "      <td>Skilled Manual</td>\n",
       "      <td>Yes</td>\n",
       "      <td>0.0</td>\n",
       "      <td>0-1 Miles</td>\n",
       "      <td>Europe</td>\n",
       "      <td>43.0</td>\n",
       "      <td>Yes</td>\n",
       "    </tr>\n",
       "    <tr>\n",
       "      <th>22155</th>\n",
       "      <td>NaN</td>\n",
       "      <td>Male</td>\n",
       "      <td>20000.0</td>\n",
       "      <td>2.0</td>\n",
       "      <td>Partial High School</td>\n",
       "      <td>Clerical</td>\n",
       "      <td>Yes</td>\n",
       "      <td>2.0</td>\n",
       "      <td>5-10 Miles</td>\n",
       "      <td>Pacific</td>\n",
       "      <td>58.0</td>\n",
       "      <td>No</td>\n",
       "    </tr>\n",
       "    <tr>\n",
       "      <th>19280</th>\n",
       "      <td>Married</td>\n",
       "      <td>Male</td>\n",
       "      <td>NaN</td>\n",
       "      <td>2.0</td>\n",
       "      <td>Partial College</td>\n",
       "      <td>Manual</td>\n",
       "      <td>Yes</td>\n",
       "      <td>1.0</td>\n",
       "      <td>0-1 Miles</td>\n",
       "      <td>Europe</td>\n",
       "      <td>NaN</td>\n",
       "      <td>Yes</td>\n",
       "    </tr>\n",
       "  </tbody>\n",
       "</table>\n",
       "</div>"
      ],
      "text/plain": [
       "      Marital Status  Gender    Income  Children            Education  \\\n",
       "ID                                                                      \n",
       "12496        Married  Female   40000.0       1.0            Bachelors   \n",
       "24107        Married    Male   30000.0       3.0      Partial College   \n",
       "14177        Married    Male   80000.0       5.0      Partial College   \n",
       "24381         Single     NaN   70000.0       0.0            Bachelors   \n",
       "25597         Single    Male   30000.0       0.0            Bachelors   \n",
       "13507        Married  Female   10000.0       2.0      Partial College   \n",
       "27974         Single    Male  160000.0       2.0          High School   \n",
       "19364        Married    Male   40000.0       1.0            Bachelors   \n",
       "22155            NaN    Male   20000.0       2.0  Partial High School   \n",
       "19280        Married    Male       NaN       2.0      Partial College   \n",
       "\n",
       "           Occupation Home Owner  Cars Commute Distance   Region   Age  \\\n",
       "ID                                                                       \n",
       "12496  Skilled Manual        Yes   0.0        0-1 Miles   Europe  42.0   \n",
       "24107        Clerical        Yes   1.0        0-1 Miles   Europe  43.0   \n",
       "14177    Professional         No   2.0        2-5 Miles   Europe  60.0   \n",
       "24381    Professional        Yes   1.0       5-10 Miles  Pacific  41.0   \n",
       "25597        Clerical         No   0.0        0-1 Miles   Europe  36.0   \n",
       "13507          Manual        Yes   0.0        1-2 Miles   Europe  50.0   \n",
       "27974      Management        NaN   4.0        0-1 Miles  Pacific  33.0   \n",
       "19364  Skilled Manual        Yes   0.0        0-1 Miles   Europe  43.0   \n",
       "22155        Clerical        Yes   2.0       5-10 Miles  Pacific  58.0   \n",
       "19280          Manual        Yes   1.0        0-1 Miles   Europe   NaN   \n",
       "\n",
       "      Purchased Bike  \n",
       "ID                    \n",
       "12496             No  \n",
       "24107             No  \n",
       "14177             No  \n",
       "24381            Yes  \n",
       "25597            Yes  \n",
       "13507             No  \n",
       "27974            Yes  \n",
       "19364            Yes  \n",
       "22155             No  \n",
       "19280            Yes  "
      ]
     },
     "execution_count": 6,
     "metadata": {},
     "output_type": "execute_result"
    }
   ],
   "source": [
    "bikes.head(10)"
   ]
  },
  {
   "cell_type": "code",
   "execution_count": 7,
   "id": "19ea6379",
   "metadata": {},
   "outputs": [
    {
     "name": "stdout",
     "output_type": "stream",
     "text": [
      "<class 'pandas.core.frame.DataFrame'>\n",
      "Int64Index: 1000 entries, 12496 to 12121\n",
      "Data columns (total 12 columns):\n",
      " #   Column            Non-Null Count  Dtype  \n",
      "---  ------            --------------  -----  \n",
      " 0   Marital Status    993 non-null    object \n",
      " 1   Gender            989 non-null    object \n",
      " 2   Income            994 non-null    float64\n",
      " 3   Children          992 non-null    float64\n",
      " 4   Education         1000 non-null   object \n",
      " 5   Occupation        1000 non-null   object \n",
      " 6   Home Owner        996 non-null    object \n",
      " 7   Cars              991 non-null    float64\n",
      " 8   Commute Distance  1000 non-null   object \n",
      " 9   Region            1000 non-null   object \n",
      " 10  Age               992 non-null    float64\n",
      " 11  Purchased Bike    1000 non-null   object \n",
      "dtypes: float64(4), object(8)\n",
      "memory usage: 101.6+ KB\n"
     ]
    }
   ],
   "source": [
    "bikes.info()"
   ]
  },
  {
   "cell_type": "markdown",
   "id": "814efe90",
   "metadata": {},
   "source": [
    "**SE IDENTIFICAN DATOS NULOS EN LAS SIGUIENTES VARIABLES: *MARITAL STATUS*, *GENDER*, *INCOME*, *CHILDREN*, *HOME OWNER*, *CATS AGE***"
   ]
  },
  {
   "cell_type": "code",
   "execution_count": 8,
   "id": "bbfa8546",
   "metadata": {},
   "outputs": [
    {
     "data": {
      "text/html": [
       "<div>\n",
       "<style scoped>\n",
       "    .dataframe tbody tr th:only-of-type {\n",
       "        vertical-align: middle;\n",
       "    }\n",
       "\n",
       "    .dataframe tbody tr th {\n",
       "        vertical-align: top;\n",
       "    }\n",
       "\n",
       "    .dataframe thead th {\n",
       "        text-align: right;\n",
       "    }\n",
       "</style>\n",
       "<table border=\"1\" class=\"dataframe\">\n",
       "  <thead>\n",
       "    <tr style=\"text-align: right;\">\n",
       "      <th></th>\n",
       "      <th>count</th>\n",
       "      <th>mean</th>\n",
       "      <th>std</th>\n",
       "      <th>min</th>\n",
       "      <th>25%</th>\n",
       "      <th>50%</th>\n",
       "      <th>75%</th>\n",
       "      <th>max</th>\n",
       "    </tr>\n",
       "  </thead>\n",
       "  <tbody>\n",
       "    <tr>\n",
       "      <th>Income</th>\n",
       "      <td>994.0</td>\n",
       "      <td>56267.605634</td>\n",
       "      <td>31067.817462</td>\n",
       "      <td>10000.0</td>\n",
       "      <td>30000.0</td>\n",
       "      <td>60000.0</td>\n",
       "      <td>70000.0</td>\n",
       "      <td>170000.0</td>\n",
       "    </tr>\n",
       "    <tr>\n",
       "      <th>Children</th>\n",
       "      <td>992.0</td>\n",
       "      <td>1.910282</td>\n",
       "      <td>1.626910</td>\n",
       "      <td>0.0</td>\n",
       "      <td>0.0</td>\n",
       "      <td>2.0</td>\n",
       "      <td>3.0</td>\n",
       "      <td>5.0</td>\n",
       "    </tr>\n",
       "    <tr>\n",
       "      <th>Cars</th>\n",
       "      <td>991.0</td>\n",
       "      <td>1.455096</td>\n",
       "      <td>1.121755</td>\n",
       "      <td>0.0</td>\n",
       "      <td>1.0</td>\n",
       "      <td>1.0</td>\n",
       "      <td>2.0</td>\n",
       "      <td>4.0</td>\n",
       "    </tr>\n",
       "    <tr>\n",
       "      <th>Age</th>\n",
       "      <td>992.0</td>\n",
       "      <td>44.181452</td>\n",
       "      <td>11.362007</td>\n",
       "      <td>25.0</td>\n",
       "      <td>35.0</td>\n",
       "      <td>43.0</td>\n",
       "      <td>52.0</td>\n",
       "      <td>89.0</td>\n",
       "    </tr>\n",
       "  </tbody>\n",
       "</table>\n",
       "</div>"
      ],
      "text/plain": [
       "          count          mean           std      min      25%      50%  \\\n",
       "Income    994.0  56267.605634  31067.817462  10000.0  30000.0  60000.0   \n",
       "Children  992.0      1.910282      1.626910      0.0      0.0      2.0   \n",
       "Cars      991.0      1.455096      1.121755      0.0      1.0      1.0   \n",
       "Age       992.0     44.181452     11.362007     25.0     35.0     43.0   \n",
       "\n",
       "              75%       max  \n",
       "Income    70000.0  170000.0  \n",
       "Children      3.0       5.0  \n",
       "Cars          2.0       4.0  \n",
       "Age          52.0      89.0  "
      ]
     },
     "execution_count": 8,
     "metadata": {},
     "output_type": "execute_result"
    }
   ],
   "source": [
    "bikes.describe().transpose()"
   ]
  },
  {
   "cell_type": "code",
   "execution_count": 9,
   "id": "2223c6cb",
   "metadata": {},
   "outputs": [
    {
     "data": {
      "text/plain": [
       "Marital Status       7\n",
       "Gender              11\n",
       "Income               6\n",
       "Children             8\n",
       "Education            0\n",
       "Occupation           0\n",
       "Home Owner           4\n",
       "Cars                 9\n",
       "Commute Distance     0\n",
       "Region               0\n",
       "Age                  8\n",
       "Purchased Bike       0\n",
       "dtype: int64"
      ]
     },
     "execution_count": 9,
     "metadata": {},
     "output_type": "execute_result"
    }
   ],
   "source": [
    "bikes.isna().sum()"
   ]
  },
  {
   "cell_type": "markdown",
   "id": "ec896580",
   "metadata": {},
   "source": [
    "***TABLAS DE FRECUENCIA***"
   ]
  },
  {
   "cell_type": "code",
   "execution_count": 10,
   "id": "90f93a7a",
   "metadata": {},
   "outputs": [
    {
     "name": "stdout",
     "output_type": "stream",
     "text": [
      "     Total  Porcentaje\n",
      "0.0    274        27.4\n",
      "1.0    169        16.9\n",
      "2.0    209        20.9\n",
      "3.0    133        13.3\n",
      "4.0    126        12.6\n",
      "5.0     81         8.1\n",
      "NaN      8         0.8\n"
     ]
    }
   ],
   "source": [
    "frequency = bikes['Children'].value_counts(dropna=False).sort_index()\n",
    "df = pd.Series(frequency,name='Total')\n",
    "df = df.to_frame()\n",
    "df['Porcentaje'] = (df['Total']/1000)*100\n",
    "print(df)"
   ]
  },
  {
   "cell_type": "code",
   "execution_count": 11,
   "id": "c1d684fa",
   "metadata": {},
   "outputs": [
    {
     "name": "stdout",
     "output_type": "stream",
     "text": [
      "     Total  Porcentaje\n",
      "0.0    238        23.8\n",
      "1.0    267        26.7\n",
      "2.0    342        34.2\n",
      "3.0     85         8.5\n",
      "4.0     59         5.9\n",
      "NaN      9         0.9\n"
     ]
    }
   ],
   "source": [
    "frequency = bikes['Cars'].value_counts(dropna=False).sort_index()\n",
    "df = pd.Series(frequency,name='Total')\n",
    "df = df.to_frame()\n",
    "df['Porcentaje'] = (df['Total']/1000)*100\n",
    "print(df)"
   ]
  },
  {
   "cell_type": "code",
   "execution_count": 12,
   "id": "52a886a6",
   "metadata": {},
   "outputs": [
    {
     "name": "stdout",
     "output_type": "stream",
     "text": [
      "         Total  Porcentaje\n",
      "Married    535        53.5\n",
      "Single     458        45.8\n",
      "NaN          7         0.7\n"
     ]
    }
   ],
   "source": [
    "frequency = bikes['Marital Status'].value_counts(dropna=False)\n",
    "df = pd.Series(frequency, name = 'Total')\n",
    "df = df.to_frame()\n",
    "df['Porcentaje'] = (df['Total']/1000)*100\n",
    "print(df)"
   ]
  },
  {
   "cell_type": "code",
   "execution_count": 13,
   "id": "51c489b1",
   "metadata": {},
   "outputs": [
    {
     "name": "stdout",
     "output_type": "stream",
     "text": [
      "        Total  Porcentaje\n",
      "Male      500        50.0\n",
      "Female    489        48.9\n",
      "NaN        11         1.1\n"
     ]
    }
   ],
   "source": [
    "frequency = bikes['Gender'].value_counts(dropna=False)\n",
    "df = pd.Series(frequency,name='Total')\n",
    "df = df.to_frame()\n",
    "df['Porcentaje'] = (df['Total']/1000)*100\n",
    "print(df)"
   ]
  },
  {
   "cell_type": "code",
   "execution_count": 14,
   "id": "d827a019",
   "metadata": {},
   "outputs": [
    {
     "name": "stdout",
     "output_type": "stream",
     "text": [
      "                     Total  Porcentaje\n",
      "Bachelors              306        30.6\n",
      "Partial College        265        26.5\n",
      "High School            179        17.9\n",
      "Graduate Degree        174        17.4\n",
      "Partial High School     76         7.6\n"
     ]
    }
   ],
   "source": [
    "frequency = bikes['Education'].value_counts(dropna=False)\n",
    "df = pd.Series(frequency, name='Total')\n",
    "df = df.to_frame()\n",
    "df['Porcentaje'] = (df['Total']/1000)*100\n",
    "print(df)"
   ]
  },
  {
   "cell_type": "code",
   "execution_count": 15,
   "id": "bdb3cce1",
   "metadata": {},
   "outputs": [
    {
     "name": "stdout",
     "output_type": "stream",
     "text": [
      "                Total  Porcentaje\n",
      "Professional      276        27.6\n",
      "Skilled Manual    255        25.5\n",
      "Clerical          177        17.7\n",
      "Management        173        17.3\n",
      "Manual            119        11.9\n"
     ]
    }
   ],
   "source": [
    "frequency = bikes['Occupation'].value_counts(dropna=False)\n",
    "df = pd.Series(frequency, name='Total')\n",
    "df = df.to_frame()\n",
    "df['Porcentaje'] = (df['Total']/1000)*100\n",
    "print(df)"
   ]
  },
  {
   "cell_type": "code",
   "execution_count": 16,
   "id": "cbe4e23b",
   "metadata": {},
   "outputs": [
    {
     "name": "stdout",
     "output_type": "stream",
     "text": [
      "     Total  Porcentaje\n",
      "Yes    682        68.2\n",
      "No     314        31.4\n",
      "NaN      4         0.4\n"
     ]
    }
   ],
   "source": [
    "frequency = bikes['Home Owner'].value_counts(dropna=False)\n",
    "df = pd.Series(frequency, name='Total')\n",
    "df = df.to_frame()\n",
    "df['Porcentaje'] = (df['Total']/1000)*100\n",
    "print(df)"
   ]
  },
  {
   "cell_type": "code",
   "execution_count": 17,
   "id": "2beb906c",
   "metadata": {},
   "outputs": [
    {
     "name": "stdout",
     "output_type": "stream",
     "text": [
      "            Total  Porcentaje\n",
      "0-1 Miles     366        36.6\n",
      "5-10 Miles    192        19.2\n",
      "1-2 Miles     169        16.9\n",
      "2-5 Miles     162        16.2\n",
      "10+ Miles     111        11.1\n"
     ]
    }
   ],
   "source": [
    "frequency = bikes['Commute Distance'].value_counts(dropna=False)\n",
    "df = pd.Series(frequency, name='Total')\n",
    "df = df.to_frame()\n",
    "df['Porcentaje'] = (df['Total']/1000)*100\n",
    "print(df)"
   ]
  },
  {
   "cell_type": "code",
   "execution_count": 18,
   "id": "6085a6f5",
   "metadata": {},
   "outputs": [
    {
     "name": "stdout",
     "output_type": "stream",
     "text": [
      "               Total  Porcentaje\n",
      "North America    508        50.8\n",
      "Europe           300        30.0\n",
      "Pacific          192        19.2\n"
     ]
    }
   ],
   "source": [
    "frequency = bikes['Region'].value_counts(dropna=False)\n",
    "df = pd.Series(frequency, name = 'Total')\n",
    "df = df.to_frame()\n",
    "df['Porcentaje'] = (df['Total']/1000)*100\n",
    "print(df)"
   ]
  },
  {
   "cell_type": "code",
   "execution_count": 19,
   "id": "7b7fece1",
   "metadata": {},
   "outputs": [
    {
     "name": "stdout",
     "output_type": "stream",
     "text": [
      "     Total  Porcentaje\n",
      "No     519        51.9\n",
      "Yes    481        48.1\n"
     ]
    }
   ],
   "source": [
    "frequency = bikes['Purchased Bike'].value_counts(dropna=False)\n",
    "df = pd.Series(frequency, name = 'Total')\n",
    "df = df.to_frame()\n",
    "df['Porcentaje'] = (df['Total']/1000)*100\n",
    "print(df)"
   ]
  },
  {
   "cell_type": "code",
   "execution_count": 20,
   "id": "0059a72e",
   "metadata": {},
   "outputs": [
    {
     "name": "stdout",
     "output_type": "stream",
     "text": [
      "      Total  Porcentaje\n",
      "25.0      5         0.5\n",
      "26.0     16         1.6\n",
      "27.0     23         2.3\n",
      "28.0     22         2.2\n",
      "29.0     16         1.6\n",
      "30.0     26         2.6\n",
      "31.0     25         2.5\n",
      "32.0     33         3.3\n",
      "33.0     21         2.1\n",
      "34.0     31         3.1\n",
      "35.0     35         3.5\n",
      "36.0     37         3.7\n",
      "37.0     32         3.2\n",
      "38.0     37         3.7\n",
      "39.0     22         2.2\n",
      "40.0     40         4.0\n",
      "41.0     28         2.8\n",
      "42.0     34         3.4\n",
      "43.0     36         3.6\n",
      "44.0     27         2.7\n",
      "45.0     31         3.1\n",
      "46.0     27         2.7\n",
      "47.0     39         3.9\n",
      "48.0     29         2.9\n",
      "49.0     23         2.3\n",
      "50.0     23         2.3\n",
      "51.0     22         2.2\n",
      "52.0     25         2.5\n",
      "53.0     24         2.4\n",
      "54.0     16         1.6\n",
      "55.0     17         1.7\n",
      "56.0     16         1.6\n",
      "57.0      8         0.8\n",
      "58.0     12         1.2\n",
      "59.0     20         2.0\n",
      "60.0     14         1.4\n",
      "61.0      9         0.9\n",
      "62.0     13         1.3\n",
      "63.0      9         0.9\n",
      "64.0     10         1.0\n",
      "65.0      9         0.9\n",
      "66.0     14         1.4\n",
      "67.0     10         1.0\n",
      "68.0      3         0.3\n",
      "69.0      8         0.8\n",
      "70.0      4         0.4\n",
      "71.0      1         0.1\n",
      "72.0      1         0.1\n",
      "73.0      4         0.4\n",
      "74.0      1         0.1\n",
      "78.0      2         0.2\n",
      "80.0      1         0.1\n",
      "89.0      1         0.1\n",
      "NaN       8         0.8\n"
     ]
    }
   ],
   "source": [
    "frequency = bikes['Age'].value_counts(dropna=False).sort_index()\n",
    "df = pd.Series(frequency, name = 'Total')\n",
    "df = df.to_frame()\n",
    "df['Porcentaje'] = (df['Total']/1000)*100\n",
    "print(df)"
   ]
  },
  {
   "cell_type": "code",
   "execution_count": 15,
   "id": "914e021c",
   "metadata": {},
   "outputs": [],
   "source": [
    "bikes.loc[(bikes['Children'] > 0) & (bikes['Marital Status'] == 'Single'), 'Marital Status'] = 'Widowed'"
   ]
  },
  {
   "cell_type": "code",
   "execution_count": 18,
   "id": "d4c3c778",
   "metadata": {},
   "outputs": [
    {
     "data": {
      "text/plain": [
       "285"
      ]
     },
     "execution_count": 18,
     "metadata": {},
     "output_type": "execute_result"
    }
   ],
   "source": [
    "bikes[bikes['Marital Status']=='Widowed']['Marital Status'].count()"
   ]
  },
  {
   "cell_type": "code",
   "execution_count": 114,
   "id": "4fa61835",
   "metadata": {},
   "outputs": [
    {
     "data": {
      "text/plain": [
       "Text(0.5, 1.0, 'Ingresos clientes por Ocupación')"
      ]
     },
     "execution_count": 114,
     "metadata": {},
     "output_type": "execute_result"
    },
    {
     "data": {
      "image/png": "[encoded data removed]",
      "text/plain": [
       "<Figure size 800x300 with 1 Axes>"
      ]
     },
     "metadata": {},
     "output_type": "display_data"
    }
   ],
   "source": [
    "plt.figure(figsize=(8,3))\n",
    "sns.boxplot(x='Income',y='Occupation',hue='Purchased Bike',data=bikes, palette = 'rainbow')\n",
    "plt.xlabel('Ingresos')\n",
    "plt.ylabel('Ocupación')\n",
    "plt.title('Ingresos clientes por Ocupación')"
   ]
  },
  {
   "cell_type": "code",
   "execution_count": 109,
   "id": "f416fc29",
   "metadata": {},
   "outputs": [
    {
     "data": {
      "text/plain": [
       "Text(0.5, 1.0, 'Edad de clientes por su Ocupación')"
      ]
     },
     "execution_count": 109,
     "metadata": {},
     "output_type": "execute_result"
    },
    {
     "data": {
      "image/png": "[encoded data removed]",
      "text/plain": [
       "<Figure size 1000x300 with 1 Axes>"
      ]
     },
     "metadata": {},
     "output_type": "display_data"
    }
   ],
   "source": [
    "plt.figure(figsize=(10,3))\n",
    "sns.boxplot(x='Age',y='Occupation',hue='Purchased Bike',data=bikes, palette = 'rainbow', orient= 'h')\n",
    "plt.xlabel('Edad')\n",
    "plt.ylabel('Ocupación')\n",
    "plt.title('Edad de clientes por su Ocupación')"
   ]
  },
  {
   "cell_type": "code",
   "execution_count": 41,
   "id": "d6f2a5b4",
   "metadata": {
    "scrolled": true
   },
   "outputs": [
    {
     "data": {
      "text/plain": [
       "Text(0.5, 1.0, 'Distribución del Total de Clientes por Estado Civil y Adquisición de Bicicleta')"
      ]
     },
     "execution_count": 41,
     "metadata": {},
     "output_type": "execute_result"
    },
    {
     "data": {
      "image/png": "[encoded data removed]",
      "text/plain": [
       "<Figure size 640x480 with 1 Axes>"
      ]
     },
     "metadata": {},
     "output_type": "display_data"
    }
   ],
   "source": [
    "sns.countplot(x='Marital Status', hue='Purchased Bike', data = bikes)\n",
    "plt.xlabel('Estado Civil')\n",
    "plt.ylabel('Total de Clientes')\n",
    "plt.title('Distribución del Total de Clientes por Estado Civil y Adquisición de Bicicleta')"
   ]
  },
  {
   "cell_type": "code",
   "execution_count": 36,
   "id": "1976c321",
   "metadata": {},
   "outputs": [
    {
     "data": {
      "text/plain": [
       "Text(0.5, 1.0, 'Distribución del Total de Clientes por Ocupación y Adquisición de Bicicleta')"
      ]
     },
     "execution_count": 36,
     "metadata": {},
     "output_type": "execute_result"
    },
    {
     "data": {
      "image/png": "[encoded data removed]",
      "text/plain": [
       "<Figure size 640x480 with 1 Axes>"
      ]
     },
     "metadata": {},
     "output_type": "display_data"
    }
   ],
   "source": [
    "sns.countplot(x='Occupation',hue='Purchased Bike', data = bikes)\n",
    "plt.xlabel('Ocupación')\n",
    "plt.ylabel('Total de Clientes')\n",
    "plt.title('Distribución del Total de Clientes por Ocupación y Adquisición de Bicicleta')"
   ]
  },
  {
   "cell_type": "code",
   "execution_count": 44,
   "id": "56ad4975",
   "metadata": {},
   "outputs": [
    {
     "data": {
      "text/plain": [
       "Text(0.5, 1.0, 'Distribución del Total de Clientes por Región y Adquisición de Bicicleta')"
      ]
     },
     "execution_count": 44,
     "metadata": {},
     "output_type": "execute_result"
    },
    {
     "data": {
      "image/png": "[encoded data removed]",
      "text/plain": [
       "<Figure size 640x480 with 1 Axes>"
      ]
     },
     "metadata": {},
     "output_type": "display_data"
    }
   ],
   "source": [
    "sns.countplot(x='Region', hue='Purchased Bike', data=bikes)\n",
    "plt.xlabel('Región')\n",
    "plt.ylabel('Total de clientes')\n",
    "plt.title('Distribución del Total de Clientes por Región y Adquisición de Bicicleta')"
   ]
  },
  {
   "cell_type": "code",
   "execution_count": 47,
   "id": "96690f9e",
   "metadata": {},
   "outputs": [
    {
     "data": {
      "text/plain": [
       "Text(0.5, 1.0, 'Distribución del Total de Clientes por Adquisición de Propiedad y Adquisición de Bicicleta')"
      ]
     },
     "execution_count": 47,
     "metadata": {},
     "output_type": "execute_result"
    },
    {
     "data": {
      "image/png": "[encoded data removed]",
      "text/plain": [
       "<Figure size 640x480 with 1 Axes>"
      ]
     },
     "metadata": {},
     "output_type": "display_data"
    }
   ],
   "source": [
    "sns.countplot(x='Home Owner', hue = 'Purchased Bike', data = bikes)\n",
    "plt.xlabel('Propietario de una casa')\n",
    "plt.ylabel('Total de Clientes')\n",
    "plt.title('Distribución del Total de Clientes por Adquisición de Propiedad y Adquisición de Bicicleta')"
   ]
  },
  {
   "cell_type": "code",
   "execution_count": 22,
   "id": "e2adb58c",
   "metadata": {},
   "outputs": [
    {
     "name": "stderr",
     "output_type": "stream",
     "text": [
      "C:\\Users\\HP\\AppData\\Local\\Temp\\ipykernel_7536\\4012078540.py:1: FutureWarning: The default value of numeric_only in DataFrame.corr is deprecated. In a future version, it will default to False. Select only valid columns or specify the value of numeric_only to silence this warning.\n",
      "  sns.heatmap(bikes.corr(),cmap='coolwarm',annot=True)\n"
     ]
    },
    {
     "data": {
      "text/plain": [
       "<AxesSubplot: >"
      ]
     },
     "execution_count": 22,
     "metadata": {},
     "output_type": "execute_result"
    },
    {
     "data": {
      "image/png": "[encoded data removed]",
      "text/plain": [
       "<Figure size 640x480 with 2 Axes>"
      ]
     },
     "metadata": {},
     "output_type": "display_data"
    }
   ],
   "source": [
    "sns.heatmap(bikes.corr(),cmap='coolwarm',annot=True)"
   ]
  },
  {
   "cell_type": "code",
   "execution_count": null,
   "id": "f57c699f",
   "metadata": {},
   "outputs": [],
   "source": []
  }
 ],
 "metadata": {
  "kernelspec": {
   "display_name": "Python 3 (ipykernel)",
   "language": "python",
   "name": "python3"
  },
  "language_info": {
   "codemirror_mode": {
    "name": "ipython",
    "version": 3
   },
   "file_extension": ".py",
   "mimetype": "text/x-python",
   "name": "python",
   "nbconvert_exporter": "python",
   "pygments_lexer": "ipython3",
   "version": "3.10.4"
  }
 },
 "nbformat": 4,
 "nbformat_minor": 5
}
