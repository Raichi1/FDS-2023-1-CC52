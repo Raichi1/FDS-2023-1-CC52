{
 "cells": [
  {
   "cell_type": "code",
   "execution_count": 58,
   "id": "f51aeba5",
   "metadata": {
    "id": "f51aeba5"
   },
   "outputs": [],
   "source": [
    "import pandas as pd\n",
    "import numpy as np\n",
    "import seaborn as sns\n",
    "import matplotlib.pyplot as plt\n",
    "from sklearn.model_selection import train_test_split\n",
    "from sklearn.preprocessing import LabelEncoder\n",
    "from sklearn.preprocessing import StandardScaler\n",
    "from sklearn.linear_model import LogisticRegression\n",
    "from sklearn.linear_model import LinearRegression\n",
    "from sklearn.metrics import accuracy_score, classification_report\n",
    "from sklearn.metrics import mean_squared_error, r2_score\n",
    "from sklearn import metrics"
   ]
  },
  {
   "cell_type": "code",
   "execution_count": 77,
   "id": "9e13e00a",
   "metadata": {
    "id": "9e13e00a"
   },
   "outputs": [],
   "source": [
    "%matplotlib inline"
   ]
  },
  {
   "cell_type": "markdown",
   "id": "99130f5e",
   "metadata": {
    "id": "99130f5e"
   },
   "source": [
    "# CARGA DE DATOS"
   ]
  },
  {
   "cell_type": "code",
   "execution_count": 3,
   "id": "oRmvub4a8adM",
   "metadata": {
    "colab": {
     "base_uri": "https://localhost:8080/"
    },
    "id": "oRmvub4a8adM",
    "outputId": "27303150-a8dd-4c82-f890-aabdc12b065d"
   },
   "outputs": [],
   "source": [
    "bikes = pd.read_csv('C:/Users/HP/Downloads/DATA SCIENCE-PYTHON/TRABAJO FINAL/data/bike_buyers.csv')"
   ]
  },
  {
   "cell_type": "code",
   "execution_count": 4,
   "id": "b392327e",
   "metadata": {
    "colab": {
     "base_uri": "https://localhost:8080/",
     "height": 363
    },
    "id": "b392327e",
    "outputId": "f5280f51-ed76-4f18-a37f-6266af83d012"
   },
   "outputs": [
    {
     "data": {
      "text/html": [
       "<div>\n",
       "<style scoped>\n",
       "    .dataframe tbody tr th:only-of-type {\n",
       "        vertical-align: middle;\n",
       "    }\n",
       "\n",
       "    .dataframe tbody tr th {\n",
       "        vertical-align: top;\n",
       "    }\n",
       "\n",
       "    .dataframe thead th {\n",
       "        text-align: right;\n",
       "    }\n",
       "</style>\n",
       "<table border=\"1\" class=\"dataframe\">\n",
       "  <thead>\n",
       "    <tr style=\"text-align: right;\">\n",
       "      <th></th>\n",
       "      <th>ID</th>\n",
       "      <th>Marital Status</th>\n",
       "      <th>Gender</th>\n",
       "      <th>Income</th>\n",
       "      <th>Children</th>\n",
       "      <th>Education</th>\n",
       "      <th>Occupation</th>\n",
       "      <th>Home Owner</th>\n",
       "      <th>Cars</th>\n",
       "      <th>Commute Distance</th>\n",
       "      <th>Region</th>\n",
       "      <th>Age</th>\n",
       "      <th>Purchased Bike</th>\n",
       "    </tr>\n",
       "  </thead>\n",
       "  <tbody>\n",
       "    <tr>\n",
       "      <th>0</th>\n",
       "      <td>12496</td>\n",
       "      <td>Married</td>\n",
       "      <td>Female</td>\n",
       "      <td>40000.0</td>\n",
       "      <td>1.0</td>\n",
       "      <td>Bachelors</td>\n",
       "      <td>Skilled Manual</td>\n",
       "      <td>Yes</td>\n",
       "      <td>0.0</td>\n",
       "      <td>0-1 Miles</td>\n",
       "      <td>Europe</td>\n",
       "      <td>42.0</td>\n",
       "      <td>No</td>\n",
       "    </tr>\n",
       "    <tr>\n",
       "      <th>1</th>\n",
       "      <td>24107</td>\n",
       "      <td>Married</td>\n",
       "      <td>Male</td>\n",
       "      <td>30000.0</td>\n",
       "      <td>3.0</td>\n",
       "      <td>Partial College</td>\n",
       "      <td>Clerical</td>\n",
       "      <td>Yes</td>\n",
       "      <td>1.0</td>\n",
       "      <td>0-1 Miles</td>\n",
       "      <td>Europe</td>\n",
       "      <td>43.0</td>\n",
       "      <td>No</td>\n",
       "    </tr>\n",
       "    <tr>\n",
       "      <th>2</th>\n",
       "      <td>14177</td>\n",
       "      <td>Married</td>\n",
       "      <td>Male</td>\n",
       "      <td>80000.0</td>\n",
       "      <td>5.0</td>\n",
       "      <td>Partial College</td>\n",
       "      <td>Professional</td>\n",
       "      <td>No</td>\n",
       "      <td>2.0</td>\n",
       "      <td>2-5 Miles</td>\n",
       "      <td>Europe</td>\n",
       "      <td>60.0</td>\n",
       "      <td>No</td>\n",
       "    </tr>\n",
       "    <tr>\n",
       "      <th>3</th>\n",
       "      <td>24381</td>\n",
       "      <td>Single</td>\n",
       "      <td>NaN</td>\n",
       "      <td>70000.0</td>\n",
       "      <td>0.0</td>\n",
       "      <td>Bachelors</td>\n",
       "      <td>Professional</td>\n",
       "      <td>Yes</td>\n",
       "      <td>1.0</td>\n",
       "      <td>5-10 Miles</td>\n",
       "      <td>Pacific</td>\n",
       "      <td>41.0</td>\n",
       "      <td>Yes</td>\n",
       "    </tr>\n",
       "    <tr>\n",
       "      <th>4</th>\n",
       "      <td>25597</td>\n",
       "      <td>Single</td>\n",
       "      <td>Male</td>\n",
       "      <td>30000.0</td>\n",
       "      <td>0.0</td>\n",
       "      <td>Bachelors</td>\n",
       "      <td>Clerical</td>\n",
       "      <td>No</td>\n",
       "      <td>0.0</td>\n",
       "      <td>0-1 Miles</td>\n",
       "      <td>Europe</td>\n",
       "      <td>36.0</td>\n",
       "      <td>Yes</td>\n",
       "    </tr>\n",
       "    <tr>\n",
       "      <th>5</th>\n",
       "      <td>13507</td>\n",
       "      <td>Married</td>\n",
       "      <td>Female</td>\n",
       "      <td>10000.0</td>\n",
       "      <td>2.0</td>\n",
       "      <td>Partial College</td>\n",
       "      <td>Manual</td>\n",
       "      <td>Yes</td>\n",
       "      <td>0.0</td>\n",
       "      <td>1-2 Miles</td>\n",
       "      <td>Europe</td>\n",
       "      <td>50.0</td>\n",
       "      <td>No</td>\n",
       "    </tr>\n",
       "    <tr>\n",
       "      <th>6</th>\n",
       "      <td>27974</td>\n",
       "      <td>Single</td>\n",
       "      <td>Male</td>\n",
       "      <td>160000.0</td>\n",
       "      <td>2.0</td>\n",
       "      <td>High School</td>\n",
       "      <td>Management</td>\n",
       "      <td>NaN</td>\n",
       "      <td>4.0</td>\n",
       "      <td>0-1 Miles</td>\n",
       "      <td>Pacific</td>\n",
       "      <td>33.0</td>\n",
       "      <td>Yes</td>\n",
       "    </tr>\n",
       "    <tr>\n",
       "      <th>7</th>\n",
       "      <td>19364</td>\n",
       "      <td>Married</td>\n",
       "      <td>Male</td>\n",
       "      <td>40000.0</td>\n",
       "      <td>1.0</td>\n",
       "      <td>Bachelors</td>\n",
       "      <td>Skilled Manual</td>\n",
       "      <td>Yes</td>\n",
       "      <td>0.0</td>\n",
       "      <td>0-1 Miles</td>\n",
       "      <td>Europe</td>\n",
       "      <td>43.0</td>\n",
       "      <td>Yes</td>\n",
       "    </tr>\n",
       "    <tr>\n",
       "      <th>8</th>\n",
       "      <td>22155</td>\n",
       "      <td>NaN</td>\n",
       "      <td>Male</td>\n",
       "      <td>20000.0</td>\n",
       "      <td>2.0</td>\n",
       "      <td>Partial High School</td>\n",
       "      <td>Clerical</td>\n",
       "      <td>Yes</td>\n",
       "      <td>2.0</td>\n",
       "      <td>5-10 Miles</td>\n",
       "      <td>Pacific</td>\n",
       "      <td>58.0</td>\n",
       "      <td>No</td>\n",
       "    </tr>\n",
       "    <tr>\n",
       "      <th>9</th>\n",
       "      <td>19280</td>\n",
       "      <td>Married</td>\n",
       "      <td>Male</td>\n",
       "      <td>NaN</td>\n",
       "      <td>2.0</td>\n",
       "      <td>Partial College</td>\n",
       "      <td>Manual</td>\n",
       "      <td>Yes</td>\n",
       "      <td>1.0</td>\n",
       "      <td>0-1 Miles</td>\n",
       "      <td>Europe</td>\n",
       "      <td>NaN</td>\n",
       "      <td>Yes</td>\n",
       "    </tr>\n",
       "  </tbody>\n",
       "</table>\n",
       "</div>"
      ],
      "text/plain": [
       "      ID Marital Status  Gender    Income  Children            Education  \\\n",
       "0  12496        Married  Female   40000.0       1.0            Bachelors   \n",
       "1  24107        Married    Male   30000.0       3.0      Partial College   \n",
       "2  14177        Married    Male   80000.0       5.0      Partial College   \n",
       "3  24381         Single     NaN   70000.0       0.0            Bachelors   \n",
       "4  25597         Single    Male   30000.0       0.0            Bachelors   \n",
       "5  13507        Married  Female   10000.0       2.0      Partial College   \n",
       "6  27974         Single    Male  160000.0       2.0          High School   \n",
       "7  19364        Married    Male   40000.0       1.0            Bachelors   \n",
       "8  22155            NaN    Male   20000.0       2.0  Partial High School   \n",
       "9  19280        Married    Male       NaN       2.0      Partial College   \n",
       "\n",
       "       Occupation Home Owner  Cars Commute Distance   Region   Age  \\\n",
       "0  Skilled Manual        Yes   0.0        0-1 Miles   Europe  42.0   \n",
       "1        Clerical        Yes   1.0        0-1 Miles   Europe  43.0   \n",
       "2    Professional         No   2.0        2-5 Miles   Europe  60.0   \n",
       "3    Professional        Yes   1.0       5-10 Miles  Pacific  41.0   \n",
       "4        Clerical         No   0.0        0-1 Miles   Europe  36.0   \n",
       "5          Manual        Yes   0.0        1-2 Miles   Europe  50.0   \n",
       "6      Management        NaN   4.0        0-1 Miles  Pacific  33.0   \n",
       "7  Skilled Manual        Yes   0.0        0-1 Miles   Europe  43.0   \n",
       "8        Clerical        Yes   2.0       5-10 Miles  Pacific  58.0   \n",
       "9          Manual        Yes   1.0        0-1 Miles   Europe   NaN   \n",
       "\n",
       "  Purchased Bike  \n",
       "0             No  \n",
       "1             No  \n",
       "2             No  \n",
       "3            Yes  \n",
       "4            Yes  \n",
       "5             No  \n",
       "6            Yes  \n",
       "7            Yes  \n",
       "8             No  \n",
       "9            Yes  "
      ]
     },
     "execution_count": 4,
     "metadata": {},
     "output_type": "execute_result"
    }
   ],
   "source": [
    "bikes.head(10)"
   ]
  },
  {
   "cell_type": "markdown",
   "id": "63b47b1f",
   "metadata": {
    "id": "63b47b1f"
   },
   "source": [
    "# INSPECCIÓN DE DATOS"
   ]
  },
  {
   "cell_type": "code",
   "execution_count": 5,
   "id": "c05fe551",
   "metadata": {
    "colab": {
     "base_uri": "https://localhost:8080/"
    },
    "id": "c05fe551",
    "outputId": "619c6516-8f29-430a-a0d1-6a700876875a"
   },
   "outputs": [
    {
     "data": {
      "text/plain": [
       "1000"
      ]
     },
     "execution_count": 5,
     "metadata": {},
     "output_type": "execute_result"
    }
   ],
   "source": [
    "bikes['ID'].nunique()"
   ]
  },
  {
   "cell_type": "markdown",
   "id": "c6b51f0d",
   "metadata": {
    "id": "c6b51f0d"
   },
   "source": [
    "**SE VALIDÓ QUE TODO LOS ID's SON ÚNICOS PARA ESTABLECERLO COMO INDICES EN EL DATAFRAME**"
   ]
  },
  {
   "cell_type": "code",
   "execution_count": 6,
   "id": "6d175983",
   "metadata": {
    "id": "6d175983"
   },
   "outputs": [],
   "source": [
    "bikes['Purchased Bike'] = bikes['Purchased Bike'].map({'Yes': 1, 'No': 0})\n",
    "target = bikes[['ID','Purchased Bike']]\n",
    "bikes.drop('ID',axis=1,inplace =True)\n",
    "#bikes.set_index('ID',inplace=True)"
   ]
  },
  {
   "cell_type": "code",
   "execution_count": 7,
   "id": "122f989d",
   "metadata": {
    "colab": {
     "base_uri": "https://localhost:8080/",
     "height": 0
    },
    "id": "122f989d",
    "outputId": "5053c31d-5034-4330-eb44-5cda3d58c0da",
    "scrolled": true
   },
   "outputs": [
    {
     "data": {
      "text/html": [
       "<div>\n",
       "<style scoped>\n",
       "    .dataframe tbody tr th:only-of-type {\n",
       "        vertical-align: middle;\n",
       "    }\n",
       "\n",
       "    .dataframe tbody tr th {\n",
       "        vertical-align: top;\n",
       "    }\n",
       "\n",
       "    .dataframe thead th {\n",
       "        text-align: right;\n",
       "    }\n",
       "</style>\n",
       "<table border=\"1\" class=\"dataframe\">\n",
       "  <thead>\n",
       "    <tr style=\"text-align: right;\">\n",
       "      <th></th>\n",
       "      <th>Marital Status</th>\n",
       "      <th>Gender</th>\n",
       "      <th>Income</th>\n",
       "      <th>Children</th>\n",
       "      <th>Education</th>\n",
       "      <th>Occupation</th>\n",
       "      <th>Home Owner</th>\n",
       "      <th>Cars</th>\n",
       "      <th>Commute Distance</th>\n",
       "      <th>Region</th>\n",
       "      <th>Age</th>\n",
       "      <th>Purchased Bike</th>\n",
       "    </tr>\n",
       "  </thead>\n",
       "  <tbody>\n",
       "    <tr>\n",
       "      <th>0</th>\n",
       "      <td>Married</td>\n",
       "      <td>Female</td>\n",
       "      <td>40000.0</td>\n",
       "      <td>1.0</td>\n",
       "      <td>Bachelors</td>\n",
       "      <td>Skilled Manual</td>\n",
       "      <td>Yes</td>\n",
       "      <td>0.0</td>\n",
       "      <td>0-1 Miles</td>\n",
       "      <td>Europe</td>\n",
       "      <td>42.0</td>\n",
       "      <td>0</td>\n",
       "    </tr>\n",
       "    <tr>\n",
       "      <th>1</th>\n",
       "      <td>Married</td>\n",
       "      <td>Male</td>\n",
       "      <td>30000.0</td>\n",
       "      <td>3.0</td>\n",
       "      <td>Partial College</td>\n",
       "      <td>Clerical</td>\n",
       "      <td>Yes</td>\n",
       "      <td>1.0</td>\n",
       "      <td>0-1 Miles</td>\n",
       "      <td>Europe</td>\n",
       "      <td>43.0</td>\n",
       "      <td>0</td>\n",
       "    </tr>\n",
       "    <tr>\n",
       "      <th>2</th>\n",
       "      <td>Married</td>\n",
       "      <td>Male</td>\n",
       "      <td>80000.0</td>\n",
       "      <td>5.0</td>\n",
       "      <td>Partial College</td>\n",
       "      <td>Professional</td>\n",
       "      <td>No</td>\n",
       "      <td>2.0</td>\n",
       "      <td>2-5 Miles</td>\n",
       "      <td>Europe</td>\n",
       "      <td>60.0</td>\n",
       "      <td>0</td>\n",
       "    </tr>\n",
       "    <tr>\n",
       "      <th>3</th>\n",
       "      <td>Single</td>\n",
       "      <td>NaN</td>\n",
       "      <td>70000.0</td>\n",
       "      <td>0.0</td>\n",
       "      <td>Bachelors</td>\n",
       "      <td>Professional</td>\n",
       "      <td>Yes</td>\n",
       "      <td>1.0</td>\n",
       "      <td>5-10 Miles</td>\n",
       "      <td>Pacific</td>\n",
       "      <td>41.0</td>\n",
       "      <td>1</td>\n",
       "    </tr>\n",
       "    <tr>\n",
       "      <th>4</th>\n",
       "      <td>Single</td>\n",
       "      <td>Male</td>\n",
       "      <td>30000.0</td>\n",
       "      <td>0.0</td>\n",
       "      <td>Bachelors</td>\n",
       "      <td>Clerical</td>\n",
       "      <td>No</td>\n",
       "      <td>0.0</td>\n",
       "      <td>0-1 Miles</td>\n",
       "      <td>Europe</td>\n",
       "      <td>36.0</td>\n",
       "      <td>1</td>\n",
       "    </tr>\n",
       "    <tr>\n",
       "      <th>5</th>\n",
       "      <td>Married</td>\n",
       "      <td>Female</td>\n",
       "      <td>10000.0</td>\n",
       "      <td>2.0</td>\n",
       "      <td>Partial College</td>\n",
       "      <td>Manual</td>\n",
       "      <td>Yes</td>\n",
       "      <td>0.0</td>\n",
       "      <td>1-2 Miles</td>\n",
       "      <td>Europe</td>\n",
       "      <td>50.0</td>\n",
       "      <td>0</td>\n",
       "    </tr>\n",
       "    <tr>\n",
       "      <th>6</th>\n",
       "      <td>Single</td>\n",
       "      <td>Male</td>\n",
       "      <td>160000.0</td>\n",
       "      <td>2.0</td>\n",
       "      <td>High School</td>\n",
       "      <td>Management</td>\n",
       "      <td>NaN</td>\n",
       "      <td>4.0</td>\n",
       "      <td>0-1 Miles</td>\n",
       "      <td>Pacific</td>\n",
       "      <td>33.0</td>\n",
       "      <td>1</td>\n",
       "    </tr>\n",
       "    <tr>\n",
       "      <th>7</th>\n",
       "      <td>Married</td>\n",
       "      <td>Male</td>\n",
       "      <td>40000.0</td>\n",
       "      <td>1.0</td>\n",
       "      <td>Bachelors</td>\n",
       "      <td>Skilled Manual</td>\n",
       "      <td>Yes</td>\n",
       "      <td>0.0</td>\n",
       "      <td>0-1 Miles</td>\n",
       "      <td>Europe</td>\n",
       "      <td>43.0</td>\n",
       "      <td>1</td>\n",
       "    </tr>\n",
       "    <tr>\n",
       "      <th>8</th>\n",
       "      <td>NaN</td>\n",
       "      <td>Male</td>\n",
       "      <td>20000.0</td>\n",
       "      <td>2.0</td>\n",
       "      <td>Partial High School</td>\n",
       "      <td>Clerical</td>\n",
       "      <td>Yes</td>\n",
       "      <td>2.0</td>\n",
       "      <td>5-10 Miles</td>\n",
       "      <td>Pacific</td>\n",
       "      <td>58.0</td>\n",
       "      <td>0</td>\n",
       "    </tr>\n",
       "    <tr>\n",
       "      <th>9</th>\n",
       "      <td>Married</td>\n",
       "      <td>Male</td>\n",
       "      <td>NaN</td>\n",
       "      <td>2.0</td>\n",
       "      <td>Partial College</td>\n",
       "      <td>Manual</td>\n",
       "      <td>Yes</td>\n",
       "      <td>1.0</td>\n",
       "      <td>0-1 Miles</td>\n",
       "      <td>Europe</td>\n",
       "      <td>NaN</td>\n",
       "      <td>1</td>\n",
       "    </tr>\n",
       "  </tbody>\n",
       "</table>\n",
       "</div>"
      ],
      "text/plain": [
       "  Marital Status  Gender    Income  Children            Education  \\\n",
       "0        Married  Female   40000.0       1.0            Bachelors   \n",
       "1        Married    Male   30000.0       3.0      Partial College   \n",
       "2        Married    Male   80000.0       5.0      Partial College   \n",
       "3         Single     NaN   70000.0       0.0            Bachelors   \n",
       "4         Single    Male   30000.0       0.0            Bachelors   \n",
       "5        Married  Female   10000.0       2.0      Partial College   \n",
       "6         Single    Male  160000.0       2.0          High School   \n",
       "7        Married    Male   40000.0       1.0            Bachelors   \n",
       "8            NaN    Male   20000.0       2.0  Partial High School   \n",
       "9        Married    Male       NaN       2.0      Partial College   \n",
       "\n",
       "       Occupation Home Owner  Cars Commute Distance   Region   Age  \\\n",
       "0  Skilled Manual        Yes   0.0        0-1 Miles   Europe  42.0   \n",
       "1        Clerical        Yes   1.0        0-1 Miles   Europe  43.0   \n",
       "2    Professional         No   2.0        2-5 Miles   Europe  60.0   \n",
       "3    Professional        Yes   1.0       5-10 Miles  Pacific  41.0   \n",
       "4        Clerical         No   0.0        0-1 Miles   Europe  36.0   \n",
       "5          Manual        Yes   0.0        1-2 Miles   Europe  50.0   \n",
       "6      Management        NaN   4.0        0-1 Miles  Pacific  33.0   \n",
       "7  Skilled Manual        Yes   0.0        0-1 Miles   Europe  43.0   \n",
       "8        Clerical        Yes   2.0       5-10 Miles  Pacific  58.0   \n",
       "9          Manual        Yes   1.0        0-1 Miles   Europe   NaN   \n",
       "\n",
       "   Purchased Bike  \n",
       "0               0  \n",
       "1               0  \n",
       "2               0  \n",
       "3               1  \n",
       "4               1  \n",
       "5               0  \n",
       "6               1  \n",
       "7               1  \n",
       "8               0  \n",
       "9               1  "
      ]
     },
     "execution_count": 7,
     "metadata": {},
     "output_type": "execute_result"
    }
   ],
   "source": [
    "bikes.head(10)"
   ]
  },
  {
   "cell_type": "code",
   "execution_count": 8,
   "id": "19ea6379",
   "metadata": {
    "colab": {
     "base_uri": "https://localhost:8080/"
    },
    "id": "19ea6379",
    "outputId": "cad7a7f2-1ccb-4adc-f153-52b25fb3f101"
   },
   "outputs": [
    {
     "name": "stdout",
     "output_type": "stream",
     "text": [
      "<class 'pandas.core.frame.DataFrame'>\n",
      "RangeIndex: 1000 entries, 0 to 999\n",
      "Data columns (total 12 columns):\n",
      " #   Column            Non-Null Count  Dtype  \n",
      "---  ------            --------------  -----  \n",
      " 0   Marital Status    993 non-null    object \n",
      " 1   Gender            989 non-null    object \n",
      " 2   Income            994 non-null    float64\n",
      " 3   Children          992 non-null    float64\n",
      " 4   Education         1000 non-null   object \n",
      " 5   Occupation        1000 non-null   object \n",
      " 6   Home Owner        996 non-null    object \n",
      " 7   Cars              991 non-null    float64\n",
      " 8   Commute Distance  1000 non-null   object \n",
      " 9   Region            1000 non-null   object \n",
      " 10  Age               992 non-null    float64\n",
      " 11  Purchased Bike    1000 non-null   int64  \n",
      "dtypes: float64(4), int64(1), object(7)\n",
      "memory usage: 93.9+ KB\n"
     ]
    }
   ],
   "source": [
    "bikes.info()"
   ]
  },
  {
   "cell_type": "markdown",
   "id": "814efe90",
   "metadata": {
    "id": "814efe90"
   },
   "source": [
    "**SE IDENTIFICAN DATOS NULOS EN LAS SIGUIENTES VARIABLES: *MARITAL STATUS*, *GENDER*, *INCOME*, *CHILDREN*, *HOME OWNER*, *CATS AGE***"
   ]
  },
  {
   "cell_type": "code",
   "execution_count": 9,
   "id": "bbfa8546",
   "metadata": {
    "colab": {
     "base_uri": "https://localhost:8080/",
     "height": 0
    },
    "id": "bbfa8546",
    "outputId": "e471390d-85a5-4560-9647-0877c7695833"
   },
   "outputs": [
    {
     "data": {
      "text/html": [
       "<div>\n",
       "<style scoped>\n",
       "    .dataframe tbody tr th:only-of-type {\n",
       "        vertical-align: middle;\n",
       "    }\n",
       "\n",
       "    .dataframe tbody tr th {\n",
       "        vertical-align: top;\n",
       "    }\n",
       "\n",
       "    .dataframe thead th {\n",
       "        text-align: right;\n",
       "    }\n",
       "</style>\n",
       "<table border=\"1\" class=\"dataframe\">\n",
       "  <thead>\n",
       "    <tr style=\"text-align: right;\">\n",
       "      <th></th>\n",
       "      <th>count</th>\n",
       "      <th>mean</th>\n",
       "      <th>std</th>\n",
       "      <th>min</th>\n",
       "      <th>25%</th>\n",
       "      <th>50%</th>\n",
       "      <th>75%</th>\n",
       "      <th>max</th>\n",
       "    </tr>\n",
       "  </thead>\n",
       "  <tbody>\n",
       "    <tr>\n",
       "      <th>Income</th>\n",
       "      <td>994.0</td>\n",
       "      <td>56267.605634</td>\n",
       "      <td>31067.817462</td>\n",
       "      <td>10000.0</td>\n",
       "      <td>30000.0</td>\n",
       "      <td>60000.0</td>\n",
       "      <td>70000.0</td>\n",
       "      <td>170000.0</td>\n",
       "    </tr>\n",
       "    <tr>\n",
       "      <th>Children</th>\n",
       "      <td>992.0</td>\n",
       "      <td>1.910282</td>\n",
       "      <td>1.626910</td>\n",
       "      <td>0.0</td>\n",
       "      <td>0.0</td>\n",
       "      <td>2.0</td>\n",
       "      <td>3.0</td>\n",
       "      <td>5.0</td>\n",
       "    </tr>\n",
       "    <tr>\n",
       "      <th>Cars</th>\n",
       "      <td>991.0</td>\n",
       "      <td>1.455096</td>\n",
       "      <td>1.121755</td>\n",
       "      <td>0.0</td>\n",
       "      <td>1.0</td>\n",
       "      <td>1.0</td>\n",
       "      <td>2.0</td>\n",
       "      <td>4.0</td>\n",
       "    </tr>\n",
       "    <tr>\n",
       "      <th>Age</th>\n",
       "      <td>992.0</td>\n",
       "      <td>44.181452</td>\n",
       "      <td>11.362007</td>\n",
       "      <td>25.0</td>\n",
       "      <td>35.0</td>\n",
       "      <td>43.0</td>\n",
       "      <td>52.0</td>\n",
       "      <td>89.0</td>\n",
       "    </tr>\n",
       "    <tr>\n",
       "      <th>Purchased Bike</th>\n",
       "      <td>1000.0</td>\n",
       "      <td>0.481000</td>\n",
       "      <td>0.499889</td>\n",
       "      <td>0.0</td>\n",
       "      <td>0.0</td>\n",
       "      <td>0.0</td>\n",
       "      <td>1.0</td>\n",
       "      <td>1.0</td>\n",
       "    </tr>\n",
       "  </tbody>\n",
       "</table>\n",
       "</div>"
      ],
      "text/plain": [
       "                 count          mean           std      min      25%      50%  \\\n",
       "Income           994.0  56267.605634  31067.817462  10000.0  30000.0  60000.0   \n",
       "Children         992.0      1.910282      1.626910      0.0      0.0      2.0   \n",
       "Cars             991.0      1.455096      1.121755      0.0      1.0      1.0   \n",
       "Age              992.0     44.181452     11.362007     25.0     35.0     43.0   \n",
       "Purchased Bike  1000.0      0.481000      0.499889      0.0      0.0      0.0   \n",
       "\n",
       "                    75%       max  \n",
       "Income          70000.0  170000.0  \n",
       "Children            3.0       5.0  \n",
       "Cars                2.0       4.0  \n",
       "Age                52.0      89.0  \n",
       "Purchased Bike      1.0       1.0  "
      ]
     },
     "execution_count": 9,
     "metadata": {},
     "output_type": "execute_result"
    }
   ],
   "source": [
    "bikes.describe().transpose()"
   ]
  },
  {
   "cell_type": "code",
   "execution_count": 10,
   "id": "f8ee7005",
   "metadata": {
    "colab": {
     "base_uri": "https://localhost:8080/",
     "height": 0
    },
    "id": "f8ee7005",
    "outputId": "e4d14c4a-1da1-4b70-ec63-29fe82ab5611"
   },
   "outputs": [
    {
     "data": {
      "text/html": [
       "<div>\n",
       "<style scoped>\n",
       "    .dataframe tbody tr th:only-of-type {\n",
       "        vertical-align: middle;\n",
       "    }\n",
       "\n",
       "    .dataframe tbody tr th {\n",
       "        vertical-align: top;\n",
       "    }\n",
       "\n",
       "    .dataframe thead th {\n",
       "        text-align: right;\n",
       "    }\n",
       "</style>\n",
       "<table border=\"1\" class=\"dataframe\">\n",
       "  <thead>\n",
       "    <tr style=\"text-align: right;\">\n",
       "      <th></th>\n",
       "      <th>Marital Status</th>\n",
       "      <th>Gender</th>\n",
       "      <th>Education</th>\n",
       "      <th>Occupation</th>\n",
       "      <th>Home Owner</th>\n",
       "      <th>Commute Distance</th>\n",
       "      <th>Region</th>\n",
       "    </tr>\n",
       "  </thead>\n",
       "  <tbody>\n",
       "    <tr>\n",
       "      <th>count</th>\n",
       "      <td>993</td>\n",
       "      <td>989</td>\n",
       "      <td>1000</td>\n",
       "      <td>1000</td>\n",
       "      <td>996</td>\n",
       "      <td>1000</td>\n",
       "      <td>1000</td>\n",
       "    </tr>\n",
       "    <tr>\n",
       "      <th>unique</th>\n",
       "      <td>2</td>\n",
       "      <td>2</td>\n",
       "      <td>5</td>\n",
       "      <td>5</td>\n",
       "      <td>2</td>\n",
       "      <td>5</td>\n",
       "      <td>3</td>\n",
       "    </tr>\n",
       "    <tr>\n",
       "      <th>top</th>\n",
       "      <td>Married</td>\n",
       "      <td>Male</td>\n",
       "      <td>Bachelors</td>\n",
       "      <td>Professional</td>\n",
       "      <td>Yes</td>\n",
       "      <td>0-1 Miles</td>\n",
       "      <td>North America</td>\n",
       "    </tr>\n",
       "    <tr>\n",
       "      <th>freq</th>\n",
       "      <td>535</td>\n",
       "      <td>500</td>\n",
       "      <td>306</td>\n",
       "      <td>276</td>\n",
       "      <td>682</td>\n",
       "      <td>366</td>\n",
       "      <td>508</td>\n",
       "    </tr>\n",
       "  </tbody>\n",
       "</table>\n",
       "</div>"
      ],
      "text/plain": [
       "       Marital Status Gender  Education    Occupation Home Owner  \\\n",
       "count             993    989       1000          1000        996   \n",
       "unique              2      2          5             5          2   \n",
       "top           Married   Male  Bachelors  Professional        Yes   \n",
       "freq              535    500        306           276        682   \n",
       "\n",
       "       Commute Distance         Region  \n",
       "count              1000           1000  \n",
       "unique                5              3  \n",
       "top           0-1 Miles  North America  \n",
       "freq                366            508  "
      ]
     },
     "execution_count": 10,
     "metadata": {},
     "output_type": "execute_result"
    }
   ],
   "source": [
    "bikes.select_dtypes(include=['object','category']).describe()"
   ]
  },
  {
   "cell_type": "code",
   "execution_count": 11,
   "id": "2223c6cb",
   "metadata": {
    "colab": {
     "base_uri": "https://localhost:8080/"
    },
    "id": "2223c6cb",
    "outputId": "817e0c24-4377-449a-fe18-0594bd980f6d"
   },
   "outputs": [
    {
     "data": {
      "text/plain": [
       "Marital Status       7\n",
       "Gender              11\n",
       "Income               6\n",
       "Children             8\n",
       "Education            0\n",
       "Occupation           0\n",
       "Home Owner           4\n",
       "Cars                 9\n",
       "Commute Distance     0\n",
       "Region               0\n",
       "Age                  8\n",
       "Purchased Bike       0\n",
       "dtype: int64"
      ]
     },
     "execution_count": 11,
     "metadata": {},
     "output_type": "execute_result"
    }
   ],
   "source": [
    "bikes.isna().sum()"
   ]
  },
  {
   "cell_type": "markdown",
   "id": "ec896580",
   "metadata": {
    "id": "ec896580"
   },
   "source": [
    "***TABLAS DE FRECUENCIA***"
   ]
  },
  {
   "cell_type": "code",
   "execution_count": 87,
   "id": "90f93a7a",
   "metadata": {
    "id": "90f93a7a"
   },
   "outputs": [
    {
     "name": "stdout",
     "output_type": "stream",
     "text": [
      "     Total  Porcentaje\n",
      "0.0    274        27.4\n",
      "1.0    169        16.9\n",
      "2.0    209        20.9\n",
      "3.0    133        13.3\n",
      "4.0    126        12.6\n",
      "5.0     81         8.1\n",
      "NaN      8         0.8\n"
     ]
    }
   ],
   "source": [
    "frequency = bikes['Children'].value_counts(dropna=False).sort_index()\n",
    "df = pd.Series(frequency,name='Total')\n",
    "df = df.to_frame()\n",
    "df['Porcentaje'] = (df['Total']/1000)*100\n",
    "print(df)"
   ]
  },
  {
   "cell_type": "code",
   "execution_count": 88,
   "id": "c1d684fa",
   "metadata": {
    "id": "c1d684fa"
   },
   "outputs": [
    {
     "name": "stdout",
     "output_type": "stream",
     "text": [
      "     Total  Porcentaje\n",
      "0.0    238        23.8\n",
      "1.0    267        26.7\n",
      "2.0    342        34.2\n",
      "3.0     85         8.5\n",
      "4.0     59         5.9\n",
      "NaN      9         0.9\n"
     ]
    }
   ],
   "source": [
    "frequency = bikes['Cars'].value_counts(dropna=False).sort_index()\n",
    "df = pd.Series(frequency,name='Total')\n",
    "df = df.to_frame()\n",
    "df['Porcentaje'] = (df['Total']/1000)*100\n",
    "print(df)"
   ]
  },
  {
   "cell_type": "code",
   "execution_count": 89,
   "id": "52a886a6",
   "metadata": {
    "id": "52a886a6"
   },
   "outputs": [
    {
     "name": "stdout",
     "output_type": "stream",
     "text": [
      "         Total  Porcentaje\n",
      "Married    535        53.5\n",
      "Single     458        45.8\n",
      "NaN          7         0.7\n"
     ]
    }
   ],
   "source": [
    "frequency = bikes['Marital Status'].value_counts(dropna=False)\n",
    "df = pd.Series(frequency, name = 'Total')\n",
    "df = df.to_frame()\n",
    "df['Porcentaje'] = (df['Total']/1000)*100\n",
    "print(df)"
   ]
  },
  {
   "cell_type": "code",
   "execution_count": 90,
   "id": "51c489b1",
   "metadata": {
    "id": "51c489b1"
   },
   "outputs": [
    {
     "name": "stdout",
     "output_type": "stream",
     "text": [
      "        Total  Porcentaje\n",
      "Male      500        50.0\n",
      "Female    489        48.9\n",
      "NaN        11         1.1\n"
     ]
    }
   ],
   "source": [
    "frequency = bikes['Gender'].value_counts(dropna=False)\n",
    "df = pd.Series(frequency,name='Total')\n",
    "df = df.to_frame()\n",
    "df['Porcentaje'] = (df['Total']/1000)*100\n",
    "print(df)"
   ]
  },
  {
   "cell_type": "code",
   "execution_count": 91,
   "id": "d827a019",
   "metadata": {
    "id": "d827a019"
   },
   "outputs": [
    {
     "name": "stdout",
     "output_type": "stream",
     "text": [
      "                     Total  Porcentaje\n",
      "Bachelors              306        30.6\n",
      "Partial College        265        26.5\n",
      "High School            179        17.9\n",
      "Graduate Degree        174        17.4\n",
      "Partial High School     76         7.6\n"
     ]
    }
   ],
   "source": [
    "frequency = bikes['Education'].value_counts(dropna=False)\n",
    "df = pd.Series(frequency, name='Total')\n",
    "df = df.to_frame()\n",
    "df['Porcentaje'] = (df['Total']/1000)*100\n",
    "print(df)"
   ]
  },
  {
   "cell_type": "code",
   "execution_count": 92,
   "id": "bdb3cce1",
   "metadata": {
    "id": "bdb3cce1"
   },
   "outputs": [
    {
     "name": "stdout",
     "output_type": "stream",
     "text": [
      "                Total  Porcentaje\n",
      "Professional      276        27.6\n",
      "Skilled Manual    255        25.5\n",
      "Clerical          177        17.7\n",
      "Management        173        17.3\n",
      "Manual            119        11.9\n"
     ]
    }
   ],
   "source": [
    "frequency = bikes['Occupation'].value_counts(dropna=False)\n",
    "df = pd.Series(frequency, name='Total')\n",
    "df = df.to_frame()\n",
    "df['Porcentaje'] = (df['Total']/1000)*100\n",
    "print(df)"
   ]
  },
  {
   "cell_type": "code",
   "execution_count": 93,
   "id": "cbe4e23b",
   "metadata": {
    "id": "cbe4e23b"
   },
   "outputs": [
    {
     "name": "stdout",
     "output_type": "stream",
     "text": [
      "     Total  Porcentaje\n",
      "Yes    682        68.2\n",
      "No     314        31.4\n",
      "NaN      4         0.4\n"
     ]
    }
   ],
   "source": [
    "frequency = bikes['Home Owner'].value_counts(dropna=False)\n",
    "df = pd.Series(frequency, name='Total')\n",
    "df = df.to_frame()\n",
    "df['Porcentaje'] = (df['Total']/1000)*100\n",
    "print(df)"
   ]
  },
  {
   "cell_type": "code",
   "execution_count": 94,
   "id": "2beb906c",
   "metadata": {
    "id": "2beb906c"
   },
   "outputs": [
    {
     "name": "stdout",
     "output_type": "stream",
     "text": [
      "            Total  Porcentaje\n",
      "0-1 Miles     366        36.6\n",
      "5-10 Miles    192        19.2\n",
      "1-2 Miles     169        16.9\n",
      "2-5 Miles     162        16.2\n",
      "10+ Miles     111        11.1\n"
     ]
    }
   ],
   "source": [
    "frequency = bikes['Commute Distance'].value_counts(dropna=False)\n",
    "df = pd.Series(frequency, name='Total')\n",
    "df = df.to_frame()\n",
    "df['Porcentaje'] = (df['Total']/1000)*100\n",
    "print(df)"
   ]
  },
  {
   "cell_type": "code",
   "execution_count": 95,
   "id": "6085a6f5",
   "metadata": {
    "id": "6085a6f5"
   },
   "outputs": [
    {
     "name": "stdout",
     "output_type": "stream",
     "text": [
      "               Total  Porcentaje\n",
      "North America    508        50.8\n",
      "Europe           300        30.0\n",
      "Pacific          192        19.2\n"
     ]
    }
   ],
   "source": [
    "frequency = bikes['Region'].value_counts(dropna=False)\n",
    "df = pd.Series(frequency, name = 'Total')\n",
    "df = df.to_frame()\n",
    "df['Porcentaje'] = (df['Total']/1000)*100\n",
    "print(df)"
   ]
  },
  {
   "cell_type": "code",
   "execution_count": 96,
   "id": "7b7fece1",
   "metadata": {
    "id": "7b7fece1"
   },
   "outputs": [
    {
     "name": "stdout",
     "output_type": "stream",
     "text": [
      "   Total  Porcentaje\n",
      "0    519        51.9\n",
      "1    481        48.1\n"
     ]
    }
   ],
   "source": [
    "frequency = bikes['Purchased Bike'].value_counts(dropna=False)\n",
    "df = pd.Series(frequency, name = 'Total')\n",
    "df = df.to_frame()\n",
    "df['Porcentaje'] = (df['Total']/1000)*100\n",
    "print(df)"
   ]
  },
  {
   "cell_type": "code",
   "execution_count": 97,
   "id": "0059a72e",
   "metadata": {
    "id": "0059a72e"
   },
   "outputs": [
    {
     "name": "stdout",
     "output_type": "stream",
     "text": [
      "      Total  Porcentaje\n",
      "25.0      5         0.5\n",
      "26.0     16         1.6\n",
      "27.0     23         2.3\n",
      "28.0     22         2.2\n",
      "29.0     16         1.6\n",
      "30.0     26         2.6\n",
      "31.0     25         2.5\n",
      "32.0     33         3.3\n",
      "33.0     21         2.1\n",
      "34.0     31         3.1\n",
      "35.0     35         3.5\n",
      "36.0     37         3.7\n",
      "37.0     32         3.2\n",
      "38.0     37         3.7\n",
      "39.0     22         2.2\n",
      "40.0     40         4.0\n",
      "41.0     28         2.8\n",
      "42.0     34         3.4\n",
      "43.0     36         3.6\n",
      "44.0     27         2.7\n",
      "45.0     31         3.1\n",
      "46.0     27         2.7\n",
      "47.0     39         3.9\n",
      "48.0     29         2.9\n",
      "49.0     23         2.3\n",
      "50.0     23         2.3\n",
      "51.0     22         2.2\n",
      "52.0     25         2.5\n",
      "53.0     24         2.4\n",
      "54.0     16         1.6\n",
      "55.0     17         1.7\n",
      "56.0     16         1.6\n",
      "57.0      8         0.8\n",
      "58.0     12         1.2\n",
      "59.0     20         2.0\n",
      "60.0     14         1.4\n",
      "61.0      9         0.9\n",
      "62.0     13         1.3\n",
      "63.0      9         0.9\n",
      "64.0     10         1.0\n",
      "65.0      9         0.9\n",
      "66.0     14         1.4\n",
      "67.0     10         1.0\n",
      "68.0      3         0.3\n",
      "69.0      8         0.8\n",
      "70.0      4         0.4\n",
      "71.0      1         0.1\n",
      "72.0      1         0.1\n",
      "73.0      4         0.4\n",
      "74.0      1         0.1\n",
      "78.0      2         0.2\n",
      "80.0      1         0.1\n",
      "89.0      1         0.1\n",
      "NaN       8         0.8\n"
     ]
    }
   ],
   "source": [
    "frequency = bikes['Age'].value_counts(dropna=False).sort_index()\n",
    "df = pd.Series(frequency, name = 'Total')\n",
    "df = df.to_frame()\n",
    "df['Porcentaje'] = (df['Total']/1000)*100\n",
    "print(df)"
   ]
  },
  {
   "cell_type": "code",
   "execution_count": 12,
   "id": "914e021c",
   "metadata": {
    "id": "914e021c"
   },
   "outputs": [
    {
     "data": {
      "text/html": [
       "<div>\n",
       "<style scoped>\n",
       "    .dataframe tbody tr th:only-of-type {\n",
       "        vertical-align: middle;\n",
       "    }\n",
       "\n",
       "    .dataframe tbody tr th {\n",
       "        vertical-align: top;\n",
       "    }\n",
       "\n",
       "    .dataframe thead th {\n",
       "        text-align: right;\n",
       "    }\n",
       "</style>\n",
       "<table border=\"1\" class=\"dataframe\">\n",
       "  <thead>\n",
       "    <tr style=\"text-align: right;\">\n",
       "      <th></th>\n",
       "      <th>Marital Status</th>\n",
       "      <th>Gender</th>\n",
       "      <th>Income</th>\n",
       "      <th>Children</th>\n",
       "      <th>Education</th>\n",
       "      <th>Occupation</th>\n",
       "      <th>Home Owner</th>\n",
       "      <th>Cars</th>\n",
       "      <th>Commute Distance</th>\n",
       "      <th>Region</th>\n",
       "      <th>Age</th>\n",
       "      <th>Purchased Bike</th>\n",
       "    </tr>\n",
       "  </thead>\n",
       "  <tbody>\n",
       "    <tr>\n",
       "      <th>6</th>\n",
       "      <td>Single</td>\n",
       "      <td>Male</td>\n",
       "      <td>160000.0</td>\n",
       "      <td>2.0</td>\n",
       "      <td>High School</td>\n",
       "      <td>Management</td>\n",
       "      <td>NaN</td>\n",
       "      <td>4.0</td>\n",
       "      <td>0-1 Miles</td>\n",
       "      <td>Pacific</td>\n",
       "      <td>33.0</td>\n",
       "      <td>1</td>\n",
       "    </tr>\n",
       "    <tr>\n",
       "      <th>14</th>\n",
       "      <td>Single</td>\n",
       "      <td>Male</td>\n",
       "      <td>60000.0</td>\n",
       "      <td>1.0</td>\n",
       "      <td>Partial College</td>\n",
       "      <td>Skilled Manual</td>\n",
       "      <td>No</td>\n",
       "      <td>1.0</td>\n",
       "      <td>0-1 Miles</td>\n",
       "      <td>Pacific</td>\n",
       "      <td>45.0</td>\n",
       "      <td>1</td>\n",
       "    </tr>\n",
       "    <tr>\n",
       "      <th>15</th>\n",
       "      <td>Single</td>\n",
       "      <td>Female</td>\n",
       "      <td>10000.0</td>\n",
       "      <td>2.0</td>\n",
       "      <td>High School</td>\n",
       "      <td>Manual</td>\n",
       "      <td>Yes</td>\n",
       "      <td>1.0</td>\n",
       "      <td>0-1 Miles</td>\n",
       "      <td>Europe</td>\n",
       "      <td>38.0</td>\n",
       "      <td>1</td>\n",
       "    </tr>\n",
       "    <tr>\n",
       "      <th>16</th>\n",
       "      <td>Single</td>\n",
       "      <td>Male</td>\n",
       "      <td>30000.0</td>\n",
       "      <td>3.0</td>\n",
       "      <td>Partial College</td>\n",
       "      <td>Clerical</td>\n",
       "      <td>No</td>\n",
       "      <td>2.0</td>\n",
       "      <td>1-2 Miles</td>\n",
       "      <td>Pacific</td>\n",
       "      <td>59.0</td>\n",
       "      <td>1</td>\n",
       "    </tr>\n",
       "    <tr>\n",
       "      <th>18</th>\n",
       "      <td>Single</td>\n",
       "      <td>Male</td>\n",
       "      <td>40000.0</td>\n",
       "      <td>2.0</td>\n",
       "      <td>Partial College</td>\n",
       "      <td>Clerical</td>\n",
       "      <td>Yes</td>\n",
       "      <td>1.0</td>\n",
       "      <td>1-2 Miles</td>\n",
       "      <td>Europe</td>\n",
       "      <td>35.0</td>\n",
       "      <td>1</td>\n",
       "    </tr>\n",
       "    <tr>\n",
       "      <th>...</th>\n",
       "      <td>...</td>\n",
       "      <td>...</td>\n",
       "      <td>...</td>\n",
       "      <td>...</td>\n",
       "      <td>...</td>\n",
       "      <td>...</td>\n",
       "      <td>...</td>\n",
       "      <td>...</td>\n",
       "      <td>...</td>\n",
       "      <td>...</td>\n",
       "      <td>...</td>\n",
       "      <td>...</td>\n",
       "    </tr>\n",
       "    <tr>\n",
       "      <th>991</th>\n",
       "      <td>Single</td>\n",
       "      <td>Female</td>\n",
       "      <td>60000.0</td>\n",
       "      <td>1.0</td>\n",
       "      <td>Graduate Degree</td>\n",
       "      <td>Professional</td>\n",
       "      <td>Yes</td>\n",
       "      <td>0.0</td>\n",
       "      <td>2-5 Miles</td>\n",
       "      <td>North America</td>\n",
       "      <td>36.0</td>\n",
       "      <td>1</td>\n",
       "    </tr>\n",
       "    <tr>\n",
       "      <th>993</th>\n",
       "      <td>Single</td>\n",
       "      <td>Male</td>\n",
       "      <td>150000.0</td>\n",
       "      <td>1.0</td>\n",
       "      <td>Partial College</td>\n",
       "      <td>Professional</td>\n",
       "      <td>No</td>\n",
       "      <td>3.0</td>\n",
       "      <td>0-1 Miles</td>\n",
       "      <td>North America</td>\n",
       "      <td>44.0</td>\n",
       "      <td>1</td>\n",
       "    </tr>\n",
       "    <tr>\n",
       "      <th>996</th>\n",
       "      <td>Single</td>\n",
       "      <td>Male</td>\n",
       "      <td>70000.0</td>\n",
       "      <td>4.0</td>\n",
       "      <td>Graduate Degree</td>\n",
       "      <td>Professional</td>\n",
       "      <td>Yes</td>\n",
       "      <td>0.0</td>\n",
       "      <td>2-5 Miles</td>\n",
       "      <td>North America</td>\n",
       "      <td>35.0</td>\n",
       "      <td>1</td>\n",
       "    </tr>\n",
       "    <tr>\n",
       "      <th>998</th>\n",
       "      <td>Single</td>\n",
       "      <td>Male</td>\n",
       "      <td>100000.0</td>\n",
       "      <td>3.0</td>\n",
       "      <td>Bachelors</td>\n",
       "      <td>Management</td>\n",
       "      <td>No</td>\n",
       "      <td>3.0</td>\n",
       "      <td>1-2 Miles</td>\n",
       "      <td>North America</td>\n",
       "      <td>38.0</td>\n",
       "      <td>0</td>\n",
       "    </tr>\n",
       "    <tr>\n",
       "      <th>999</th>\n",
       "      <td>Single</td>\n",
       "      <td>Male</td>\n",
       "      <td>60000.0</td>\n",
       "      <td>3.0</td>\n",
       "      <td>High School</td>\n",
       "      <td>Professional</td>\n",
       "      <td>Yes</td>\n",
       "      <td>2.0</td>\n",
       "      <td>10+ Miles</td>\n",
       "      <td>North America</td>\n",
       "      <td>53.0</td>\n",
       "      <td>1</td>\n",
       "    </tr>\n",
       "  </tbody>\n",
       "</table>\n",
       "<p>285 rows × 12 columns</p>\n",
       "</div>"
      ],
      "text/plain": [
       "    Marital Status  Gender    Income  Children        Education  \\\n",
       "6           Single    Male  160000.0       2.0      High School   \n",
       "14          Single    Male   60000.0       1.0  Partial College   \n",
       "15          Single  Female   10000.0       2.0      High School   \n",
       "16          Single    Male   30000.0       3.0  Partial College   \n",
       "18          Single    Male   40000.0       2.0  Partial College   \n",
       "..             ...     ...       ...       ...              ...   \n",
       "991         Single  Female   60000.0       1.0  Graduate Degree   \n",
       "993         Single    Male  150000.0       1.0  Partial College   \n",
       "996         Single    Male   70000.0       4.0  Graduate Degree   \n",
       "998         Single    Male  100000.0       3.0        Bachelors   \n",
       "999         Single    Male   60000.0       3.0      High School   \n",
       "\n",
       "         Occupation Home Owner  Cars Commute Distance         Region   Age  \\\n",
       "6        Management        NaN   4.0        0-1 Miles        Pacific  33.0   \n",
       "14   Skilled Manual         No   1.0        0-1 Miles        Pacific  45.0   \n",
       "15           Manual        Yes   1.0        0-1 Miles         Europe  38.0   \n",
       "16         Clerical         No   2.0        1-2 Miles        Pacific  59.0   \n",
       "18         Clerical        Yes   1.0        1-2 Miles         Europe  35.0   \n",
       "..              ...        ...   ...              ...            ...   ...   \n",
       "991    Professional        Yes   0.0        2-5 Miles  North America  36.0   \n",
       "993    Professional         No   3.0        0-1 Miles  North America  44.0   \n",
       "996    Professional        Yes   0.0        2-5 Miles  North America  35.0   \n",
       "998      Management         No   3.0        1-2 Miles  North America  38.0   \n",
       "999    Professional        Yes   2.0        10+ Miles  North America  53.0   \n",
       "\n",
       "     Purchased Bike  \n",
       "6                 1  \n",
       "14                1  \n",
       "15                1  \n",
       "16                1  \n",
       "18                1  \n",
       "..              ...  \n",
       "991               1  \n",
       "993               1  \n",
       "996               1  \n",
       "998               0  \n",
       "999               1  \n",
       "\n",
       "[285 rows x 12 columns]"
      ]
     },
     "execution_count": 12,
     "metadata": {},
     "output_type": "execute_result"
    }
   ],
   "source": [
    "bikes[(bikes['Children'] > 0) & (bikes['Marital Status'] == 'Single')]"
   ]
  },
  {
   "cell_type": "code",
   "execution_count": 13,
   "id": "d4c3c778",
   "metadata": {
    "id": "d4c3c778"
   },
   "outputs": [
    {
     "data": {
      "text/plain": [
       "285"
      ]
     },
     "execution_count": 13,
     "metadata": {},
     "output_type": "execute_result"
    }
   ],
   "source": [
    "bikes[(bikes['Children'] > 0) & (bikes['Marital Status'] == 'Single')]['Marital Status'].count()"
   ]
  },
  {
   "cell_type": "markdown",
   "id": "e364df92",
   "metadata": {
    "id": "e364df92"
   },
   "source": [
    "# VISUALIZACIÓN DE DATOS"
   ]
  },
  {
   "cell_type": "code",
   "execution_count": 14,
   "id": "4fa61835",
   "metadata": {
    "id": "4fa61835"
   },
   "outputs": [
    {
     "data": {
      "text/plain": [
       "Text(0.5, 1.0, 'Ingresos clientes por Ocupación')"
      ]
     },
     "execution_count": 14,
     "metadata": {},
     "output_type": "execute_result"
    },
    {
     "data": {
      "image/png": "[encoded data removed]",
      "text/plain": [
       "<Figure size 800x300 with 1 Axes>"
      ]
     },
     "metadata": {},
     "output_type": "display_data"
    }
   ],
   "source": [
    "plt.figure(figsize=(8,3))\n",
    "sns.boxplot(x='Income',y='Occupation',hue='Purchased Bike',data=bikes, palette = 'rainbow')\n",
    "plt.xlabel('Ingresos')\n",
    "plt.ylabel('Ocupación')\n",
    "plt.title('Ingresos clientes por Ocupación')"
   ]
  },
  {
   "cell_type": "code",
   "execution_count": 15,
   "id": "f416fc29",
   "metadata": {
    "id": "f416fc29"
   },
   "outputs": [
    {
     "data": {
      "text/plain": [
       "Text(0.5, 1.0, 'Edad de clientes por su Ocupación')"
      ]
     },
     "execution_count": 15,
     "metadata": {},
     "output_type": "execute_result"
    },
    {
     "data": {
      "image/png": "[encoded data removed]",
      "text/plain": [
       "<Figure size 1000x300 with 1 Axes>"
      ]
     },
     "metadata": {},
     "output_type": "display_data"
    }
   ],
   "source": [
    "plt.figure(figsize=(10,3))\n",
    "sns.boxplot(x='Age',y='Occupation',hue='Purchased Bike',data=bikes, palette = 'rainbow', orient= 'h')\n",
    "plt.xlabel('Edad')\n",
    "plt.ylabel('Ocupación')\n",
    "plt.title('Edad de clientes por su Ocupación')"
   ]
  },
  {
   "cell_type": "code",
   "execution_count": 16,
   "id": "6042a3c8",
   "metadata": {
    "id": "6042a3c8"
   },
   "outputs": [
    {
     "data": {
      "text/plain": [
       "Text(0, 0.5, 'Cantidad')"
      ]
     },
     "execution_count": 16,
     "metadata": {},
     "output_type": "execute_result"
    },
    {
     "data": {
      "image/png": "[encoded data removed]",
      "text/plain": [
       "<Figure size 640x480 with 1 Axes>"
      ]
     },
     "metadata": {},
     "output_type": "display_data"
    }
   ],
   "source": [
    "bikes.groupby(['Cars', 'Commute Distance'])['Purchased Bike'].value_counts().unstack().plot(kind='bar', stacked=True)\n",
    "plt.title('Compras de Bicicleta según Carros y Distancia al Trabajo')\n",
    "plt.xlabel('Carros y Distancia')\n",
    "plt.ylabel('Cantidad')"
   ]
  },
  {
   "cell_type": "code",
   "execution_count": 104,
   "id": "cd419eae",
   "metadata": {
    "id": "cd419eae"
   },
   "outputs": [
    {
     "data": {
      "text/plain": [
       "Cars  Commute Distance  Purchased Bike\n",
       "0.0   0-1 Miles         1                 100\n",
       "                        0                  63\n",
       "      1-2 Miles         0                  15\n",
       "                        1                  14\n",
       "      10+ Miles         0                   3\n",
       "                        1                   1\n",
       "      2-5 Miles         1                  28\n",
       "                        0                   8\n",
       "      5-10 Miles        1                   4\n",
       "                        0                   2\n",
       "1.0   0-1 Miles         1                  60\n",
       "                        0                  25\n",
       "      1-2 Miles         1                  30\n",
       "                        0                  18\n",
       "      10+ Miles         0                  11\n",
       "                        1                   2\n",
       "      2-5 Miles         1                  41\n",
       "                        0                  31\n",
       "      5-10 Miles        0                  30\n",
       "                        1                  19\n",
       "2.0   0-1 Miles         0                  54\n",
       "                        1                  25\n",
       "      1-2 Miles         0                  44\n",
       "                        1                  31\n",
       "      10+ Miles         0                  34\n",
       "                        1                   9\n",
       "      2-5 Miles         1                  20\n",
       "                        0                  18\n",
       "      5-10 Miles        0                  68\n",
       "                        1                  39\n",
       "3.0   0-1 Miles         1                  11\n",
       "                        0                   7\n",
       "      1-2 Miles         0                   7\n",
       "                        1                   1\n",
       "      10+ Miles         0                  19\n",
       "                        1                  13\n",
       "      2-5 Miles         0                   6\n",
       "                        1                   2\n",
       "      5-10 Miles        0                  13\n",
       "                        1                   6\n",
       "4.0   0-1 Miles         0                  14\n",
       "                        1                   2\n",
       "      1-2 Miles         0                   7\n",
       "      10+ Miles         0                  11\n",
       "                        1                   8\n",
       "      2-5 Miles         0                   4\n",
       "                        1                   4\n",
       "      5-10 Miles        1                   7\n",
       "                        0                   2\n",
       "Name: Purchased Bike, dtype: int64"
      ]
     },
     "execution_count": 104,
     "metadata": {},
     "output_type": "execute_result"
    }
   ],
   "source": [
    "bikes.groupby(['Cars', 'Commute Distance'])['Purchased Bike'].value_counts()"
   ]
  },
  {
   "cell_type": "code",
   "execution_count": 105,
   "id": "d6f2a5b4",
   "metadata": {
    "id": "d6f2a5b4",
    "scrolled": true
   },
   "outputs": [
    {
     "data": {
      "text/plain": [
       "Text(0.5, 1.0, 'Distribución del Total de Clientes por Estado Civil y Adquisición de Bicicleta')"
      ]
     },
     "execution_count": 105,
     "metadata": {},
     "output_type": "execute_result"
    },
    {
     "data": {
      "image/png": "[encoded data removed]",
      "text/plain": [
       "<Figure size 640x480 with 1 Axes>"
      ]
     },
     "metadata": {},
     "output_type": "display_data"
    }
   ],
   "source": [
    "sns.countplot(x='Marital Status', hue='Purchased Bike', data = bikes)\n",
    "plt.xlabel('Estado Civil')\n",
    "plt.ylabel('Total de Clientes')\n",
    "plt.title('Distribución del Total de Clientes por Estado Civil y Adquisición de Bicicleta')"
   ]
  },
  {
   "cell_type": "code",
   "execution_count": 106,
   "id": "1976c321",
   "metadata": {
    "id": "1976c321"
   },
   "outputs": [
    {
     "data": {
      "text/plain": [
       "Text(0.5, 1.0, 'Distribución del Total de Clientes por Ocupación y Adquisición de Bicicleta')"
      ]
     },
     "execution_count": 106,
     "metadata": {},
     "output_type": "execute_result"
    },
    {
     "data": {
      "image/png": "[encoded data removed]",
      "text/plain": [
       "<Figure size 640x480 with 1 Axes>"
      ]
     },
     "metadata": {},
     "output_type": "display_data"
    }
   ],
   "source": [
    "sns.countplot(x='Occupation',hue='Purchased Bike', data = bikes)\n",
    "plt.xlabel('Ocupación')\n",
    "plt.ylabel('Total de Clientes')\n",
    "plt.title('Distribución del Total de Clientes por Ocupación y Adquisición de Bicicleta')"
   ]
  },
  {
   "cell_type": "code",
   "execution_count": 107,
   "id": "56ad4975",
   "metadata": {
    "id": "56ad4975"
   },
   "outputs": [
    {
     "data": {
      "text/plain": [
       "Text(0.5, 1.0, 'Distribución del Total de Clientes por Región y Adquisición de Bicicleta')"
      ]
     },
     "execution_count": 107,
     "metadata": {},
     "output_type": "execute_result"
    },
    {
     "data": {
      "image/png": "[encoded data removed]",
      "text/plain": [
       "<Figure size 640x480 with 1 Axes>"
      ]
     },
     "metadata": {},
     "output_type": "display_data"
    }
   ],
   "source": [
    "sns.countplot(x='Region', hue='Purchased Bike', data=bikes)\n",
    "plt.xlabel('Región')\n",
    "plt.ylabel('Total de clientes')\n",
    "plt.title('Distribución del Total de Clientes por Región y Adquisición de Bicicleta')"
   ]
  },
  {
   "cell_type": "code",
   "execution_count": 108,
   "id": "96690f9e",
   "metadata": {
    "id": "96690f9e"
   },
   "outputs": [
    {
     "data": {
      "text/plain": [
       "Text(0.5, 1.0, 'Distribución del Total de Clientes por Adquisición de Propiedad y Adquisición de Bicicleta')"
      ]
     },
     "execution_count": 108,
     "metadata": {},
     "output_type": "execute_result"
    },
    {
     "data": {
      "image/png": "[encoded data removed]",
      "text/plain": [
       "<Figure size 640x480 with 1 Axes>"
      ]
     },
     "metadata": {},
     "output_type": "display_data"
    }
   ],
   "source": [
    "sns.countplot(x='Home Owner', hue = 'Purchased Bike', data = bikes)\n",
    "plt.xlabel('Propietario de una casa')\n",
    "plt.ylabel('Total de Clientes')\n",
    "plt.title('Distribución del Total de Clientes por Adquisición de Propiedad y Adquisición de Bicicleta')"
   ]
  },
  {
   "cell_type": "code",
   "execution_count": 109,
   "id": "b7733324",
   "metadata": {
    "id": "b7733324"
   },
   "outputs": [
    {
     "data": {
      "text/plain": [
       "Text(0.5, 1.0, 'Distribución del Total de Clientes por la Distancia a Empresa y Adquisición de Bicicleta')"
      ]
     },
     "execution_count": 109,
     "metadata": {},
     "output_type": "execute_result"
    },
    {
     "data": {
      "image/png": "[encoded data removed]",
      "text/plain": [
       "<Figure size 640x480 with 1 Axes>"
      ]
     },
     "metadata": {},
     "output_type": "display_data"
    }
   ],
   "source": [
    "sns.countplot(x='Commute Distance',hue='Purchased Bike', data=bikes)\n",
    "plt.xlabel('Distancia a su Trabajo')\n",
    "plt.ylabel('Total de Clientes')\n",
    "plt.title('Distribución del Total de Clientes por la Distancia a Empresa y Adquisición de Bicicleta')"
   ]
  },
  {
   "cell_type": "markdown",
   "id": "a36e3e6e",
   "metadata": {
    "id": "a36e3e6e"
   },
   "source": [
    "# LIMPIEZA DE DATOS"
   ]
  },
  {
   "cell_type": "code",
   "execution_count": 17,
   "id": "f57c699f",
   "metadata": {
    "colab": {
     "base_uri": "https://localhost:8080/"
    },
    "id": "f57c699f",
    "outputId": "c239ab75-6aa4-40b7-c86b-5971af859794"
   },
   "outputs": [
    {
     "name": "stdout",
     "output_type": "stream",
     "text": [
      "<class 'pandas.core.frame.DataFrame'>\n",
      "RangeIndex: 1000 entries, 0 to 999\n",
      "Data columns (total 12 columns):\n",
      " #   Column            Non-Null Count  Dtype  \n",
      "---  ------            --------------  -----  \n",
      " 0   Marital Status    993 non-null    object \n",
      " 1   Gender            989 non-null    object \n",
      " 2   Income            994 non-null    float64\n",
      " 3   Children          992 non-null    float64\n",
      " 4   Education         1000 non-null   object \n",
      " 5   Occupation        1000 non-null   object \n",
      " 6   Home Owner        996 non-null    object \n",
      " 7   Cars              991 non-null    float64\n",
      " 8   Commute Distance  1000 non-null   object \n",
      " 9   Region            1000 non-null   object \n",
      " 10  Age               992 non-null    float64\n",
      " 11  Purchased Bike    1000 non-null   int64  \n",
      "dtypes: float64(4), int64(1), object(7)\n",
      "memory usage: 93.9+ KB\n"
     ]
    }
   ],
   "source": [
    "bikes.info()"
   ]
  },
  {
   "cell_type": "code",
   "execution_count": 18,
   "id": "06626ab1",
   "metadata": {
    "id": "06626ab1"
   },
   "outputs": [],
   "source": [
    "#Reemplazando los valores nan de la columna Martial Status por su valor más frecuente\n",
    "bikes['Marital Status'].fillna(bikes['Marital Status'].mode()[0],inplace=True)\n",
    "#Si la persona tiene hijos y esta soltera, que se modifique su estado a casado\n",
    "bikes.loc[(bikes['Children'] > 0) & (bikes['Marital Status'] == 'Single'), 'Marital Status'] = 'Married'"
   ]
  },
  {
   "cell_type": "code",
   "execution_count": 19,
   "id": "21eeb168",
   "metadata": {
    "id": "21eeb168"
   },
   "outputs": [],
   "source": [
    "#Reemplazando los valores nan de la columna Gender por su valor más frecuente\n",
    "bikes['Gender'].fillna(bikes['Gender'].mode()[0],inplace=True)"
   ]
  },
  {
   "cell_type": "code",
   "execution_count": 20,
   "id": "79934fe8",
   "metadata": {
    "id": "79934fe8"
   },
   "outputs": [],
   "source": [
    "#Reemplazando los valores nan de la columna Home Owner por su valor más frecuente\n",
    "bikes['Home Owner'].fillna(bikes['Home Owner'].mode()[0],inplace=True)"
   ]
  },
  {
   "cell_type": "code",
   "execution_count": 21,
   "id": "0f7979cc",
   "metadata": {
    "id": "0f7979cc"
   },
   "outputs": [],
   "source": [
    "#Reemplazando los valores nan de la columna Children por su mediana\n",
    "bikes['Children'].fillna(bikes['Children'].median(),inplace=True)"
   ]
  },
  {
   "cell_type": "code",
   "execution_count": 22,
   "id": "21166a20",
   "metadata": {
    "id": "21166a20"
   },
   "outputs": [],
   "source": [
    "#Reemplazando los valores nan de la columna Cars por su mediana\n",
    "bikes['Cars'].fillna(bikes['Cars'].median(),inplace=True)"
   ]
  },
  {
   "cell_type": "code",
   "execution_count": 23,
   "id": "bf175e4a",
   "metadata": {
    "colab": {
     "base_uri": "https://localhost:8080/"
    },
    "id": "bf175e4a",
    "outputId": "d3e3ba0f-c612-427f-9845-78f6ebb28323"
   },
   "outputs": [
    {
     "name": "stdout",
     "output_type": "stream",
     "text": [
      "Occupation\n",
      "Clerical          31022.727273\n",
      "Management        86647.398844\n",
      "Manual            15086.206897\n",
      "Professional      75054.545455\n",
      "Skilled Manual    51535.433071\n",
      "Name: Income, dtype: float64\n"
     ]
    }
   ],
   "source": [
    "#####REEMPLAZANDO VALORES NULOS DEL INCOME EN BASE AL PROMEDIO DE INCOME EN CADA OCUPACIÓN\n",
    "income_occupation = bikes.groupby('Occupation')['Income'].mean()\n",
    "print(income_occupation)"
   ]
  },
  {
   "cell_type": "code",
   "execution_count": 24,
   "id": "78d7cdaf",
   "metadata": {
    "id": "78d7cdaf"
   },
   "outputs": [],
   "source": [
    "bikes['Income'] = bikes.apply(lambda row: income_occupation[row['Occupation']] if pd.isnull(row['Income']) else row['Income'], axis=1)"
   ]
  },
  {
   "cell_type": "code",
   "execution_count": 25,
   "id": "3c7b29f8",
   "metadata": {
    "colab": {
     "base_uri": "https://localhost:8080/"
    },
    "id": "3c7b29f8",
    "outputId": "92f346e5-ee24-4a25-91db-2acd14203f42"
   },
   "outputs": [
    {
     "name": "stdout",
     "output_type": "stream",
     "text": [
      "Occupation\n",
      "Clerical          39.0\n",
      "Management        56.0\n",
      "Manual            36.0\n",
      "Professional      45.0\n",
      "Skilled Manual    41.0\n",
      "Name: Age, dtype: float64\n"
     ]
    }
   ],
   "source": [
    "#####REEMPLAZANDO VALORES NULOS DE AGE EN BASE A LA MEDIA DE EDAD EN CADA OCUPACIÓN\n",
    "edades_ocupación = bikes.groupby('Occupation')['Age'].median()\n",
    "print(edades_ocupación)"
   ]
  },
  {
   "cell_type": "code",
   "execution_count": 26,
   "id": "6shXmEClkbgN",
   "metadata": {
    "id": "6shXmEClkbgN"
   },
   "outputs": [],
   "source": [
    "bikes['Age'] = bikes.apply(lambda row: edades_ocupación[row['Occupation']] if pd.isnull(row['Age']) else row['Age'], axis=1)"
   ]
  },
  {
   "cell_type": "code",
   "execution_count": 31,
   "id": "b2aeed99",
   "metadata": {},
   "outputs": [],
   "source": [
    "bikes.to_csv('bike_buyers_limpio.csv', index=False)"
   ]
  },
  {
   "cell_type": "markdown",
   "id": "m6jUTPlAsHaw",
   "metadata": {
    "id": "m6jUTPlAsHaw"
   },
   "source": [
    "# REQUERIMIENTOS"
   ]
  },
  {
   "cell_type": "markdown",
   "id": "aARZJ_NysPIh",
   "metadata": {
    "id": "aARZJ_NysPIh"
   },
   "source": [
    "1. ¿Cuánto es el promedio de ingresos de acuerdo con si la bicicleta fue comprada o no por el cliente?"
   ]
  },
  {
   "cell_type": "code",
   "execution_count": 35,
   "id": "LwJYfbeWsXfW",
   "metadata": {
    "id": "LwJYfbeWsXfW"
   },
   "outputs": [
    {
     "data": {
      "image/png": "[encoded data removed]",
      "text/plain": [
       "<Figure size 640x480 with 1 Axes>"
      ]
     },
     "metadata": {},
     "output_type": "display_data"
    }
   ],
   "source": [
    "#PROMEDIO DE INGRESOS DE ACUERDO A LA COMPRA DE LA BICICLETA\n",
    "sns.barplot(data=bikes, x='Purchased Bike', y='Income', errorbar=None)\n",
    "plt.xlabel('Bicicleta Comprada')\n",
    "plt.ylabel('Promedio de Ingreso')\n",
    "plt.title('Promedio de Ingresos de acuerdo a la Adquisición de la Bicicleta')\n",
    "plt.show()"
   ]
  },
  {
   "cell_type": "code",
   "execution_count": 36,
   "id": "l0hNkBZWvH1K",
   "metadata": {
    "id": "l0hNkBZWvH1K"
   },
   "outputs": [
    {
     "data": {
      "text/plain": [
       "Purchased Bike\n",
       "0    54874.759152\n",
       "1    57490.376978\n",
       "Name: Income, dtype: float64"
      ]
     },
     "execution_count": 36,
     "metadata": {},
     "output_type": "execute_result"
    }
   ],
   "source": [
    "bikes.groupby('Purchased Bike')['Income'].mean()"
   ]
  },
  {
   "cell_type": "markdown",
   "id": "bFFZK6ZmsS33",
   "metadata": {
    "id": "bFFZK6ZmsS33"
   },
   "source": [
    "2. ¿Cuánto es el promedio de ingresos según el estado civil del cliente?"
   ]
  },
  {
   "cell_type": "code",
   "execution_count": 37,
   "id": "9ekAZG_IuaZL",
   "metadata": {
    "id": "9ekAZG_IuaZL"
   },
   "outputs": [
    {
     "name": "stdout",
     "output_type": "stream",
     "text": [
      "Marital Status\n",
      "Married    58298.514300\n",
      "Single     45780.346821\n",
      "Name: Income, dtype: float64\n"
     ]
    }
   ],
   "source": [
    "#PROMEDIO DE INGRESOS DE ACUERDO AL ESTADO CIVIL\n",
    "promedio_status = bikes.groupby('Marital Status')['Income'].mean()\n",
    "print(promedio_status)"
   ]
  },
  {
   "cell_type": "code",
   "execution_count": 38,
   "id": "alJtoqP1t4J3",
   "metadata": {
    "id": "alJtoqP1t4J3"
   },
   "outputs": [
    {
     "data": {
      "image/png": "[encoded data removed]",
      "text/plain": [
       "<Figure size 640x480 with 1 Axes>"
      ]
     },
     "metadata": {},
     "output_type": "display_data"
    }
   ],
   "source": [
    "sns.barplot(data=bikes, x='Marital Status', y='Income', errorbar=None)\n",
    "plt.xlabel('Estado Civil')\n",
    "plt.ylabel('Promedio de Ingreso')\n",
    "plt.title('Promedio de Ingresos de acuerdo a su Estado Civil')\n",
    "plt.show()"
   ]
  },
  {
   "cell_type": "markdown",
   "id": "nCNRk_QmsTA-",
   "metadata": {
    "id": "nCNRk_QmsTA-"
   },
   "source": [
    "3. Crear una nueva variable llamado Con_hijos, dónde Si: Children > 0, No: Children=0, para los clientes que si tienen hijos ¿Cuánto es el promedio de hijos según el nivel educativo del cliente?"
   ]
  },
  {
   "cell_type": "code",
   "execution_count": 39,
   "id": "jriJ0WwvsbqY",
   "metadata": {
    "id": "jriJ0WwvsbqY"
   },
   "outputs": [
    {
     "data": {
      "image/png": "[encoded data removed]",
      "text/plain": [
       "<Figure size 1000x600 with 1 Axes>"
      ]
     },
     "metadata": {},
     "output_type": "display_data"
    },
    {
     "name": "stdout",
     "output_type": "stream",
     "text": [
      "             Education  Children\n",
      "0            Bachelors  1.941176\n",
      "1      Graduate Degree  2.017241\n",
      "2          High School  1.960894\n",
      "3      Partial College  1.860377\n",
      "4  Partial High School  1.605263\n"
     ]
    }
   ],
   "source": [
    "bikes['Con_hijos'] = bikes['Children'].apply(lambda x: 'Si' if x > 0 else 'No')\n",
    "\n",
    "education_children = bikes.groupby('Education')['Children'].mean().reset_index()\n",
    "\n",
    "plt.figure(figsize=(10, 6))\n",
    "plt.bar(education_children['Education'], education_children['Children'])\n",
    "plt.xlabel('Nivel Educativo')\n",
    "plt.ylabel('Número promedio de hijos')\n",
    "plt.title('Comparación del número de hijos por nivel educativo')\n",
    "plt.xticks(rotation=45)\n",
    "plt.show()\n",
    "print(education_children)"
   ]
  },
  {
   "cell_type": "markdown",
   "id": "gHrs2f9HsTIt",
   "metadata": {
    "id": "gHrs2f9HsTIt"
   },
   "source": [
    "4. Crear una nueva variable llamado Con_vehiculo, dónde Si: Cars>0, No: Cars=0, para los clientes que si tienen vehículo ¿Cuánto es el promedio de vehículos según la ocupación del cliente?"
   ]
  },
  {
   "cell_type": "code",
   "execution_count": 40,
   "id": "rspo-nmLtCQa",
   "metadata": {
    "id": "rspo-nmLtCQa"
   },
   "outputs": [
    {
     "data": {
      "image/png": "[encoded data removed]",
      "text/plain": [
       "<Figure size 800x800 with 1 Axes>"
      ]
     },
     "metadata": {},
     "output_type": "display_data"
    },
    {
     "name": "stdout",
     "output_type": "stream",
     "text": [
      "             Education      Cars\n",
      "0            Bachelors  1.424837\n",
      "1      Graduate Degree  0.741379\n",
      "2          High School  1.860335\n",
      "3      Partial College  1.490566\n",
      "4  Partial High School  2.078947\n"
     ]
    }
   ],
   "source": [
    "bikes['Con_vehiculo'] = bikes['Cars'].apply(lambda x: 'Si' if x > 0 else 'No')\n",
    "\n",
    "education_cars = bikes.groupby('Education')['Cars'].mean().reset_index()\n",
    "plt.figure(figsize=(8, 8))\n",
    "plt.bar(education_cars['Education'], education_cars['Cars'])\n",
    "plt.xlabel('Nivel Educativo')\n",
    "plt.ylabel('Número promedio de carros')\n",
    "plt.title('Comparación del número de carros por nivel educativo')\n",
    "plt.xticks(rotation=45)\n",
    "plt.show()\n",
    "print(education_cars)"
   ]
  },
  {
   "cell_type": "markdown",
   "id": "Aa-Du0QksTPd",
   "metadata": {
    "id": "Aa-Du0QksTPd"
   },
   "source": [
    "5.  ¿Cuánto es el promedio de edad de acuerdo con si el cliente es o no propietario de una vivienda?\n",
    "\n"
   ]
  },
  {
   "cell_type": "code",
   "execution_count": 41,
   "id": "de9j50uAthT3",
   "metadata": {
    "id": "de9j50uAthT3"
   },
   "outputs": [
    {
     "data": {
      "image/png": "[encoded data removed]",
      "text/plain": [
       "<Figure size 800x600 with 1 Axes>"
      ]
     },
     "metadata": {},
     "output_type": "display_data"
    },
    {
     "name": "stdout",
     "output_type": "stream",
     "text": [
      "  Home Owner        Age\n",
      "0         No  42.296178\n",
      "1        Yes  45.023324\n"
     ]
    }
   ],
   "source": [
    "age_homeowner = bikes.groupby('Home Owner')['Age'].mean().reset_index()\n",
    "\n",
    "plt.figure(figsize=(8, 6))\n",
    "plt.bar(age_homeowner['Home Owner'], age_homeowner['Age'])\n",
    "plt.xlabel('Propietario de vivienda')\n",
    "plt.ylabel('Promedio de edad')\n",
    "plt.title('Promedio de edad según la propiedad de la vivienda')\n",
    "plt.show()\n",
    "print(age_homeowner)"
   ]
  },
  {
   "cell_type": "markdown",
   "id": "9KfOFIpDnNyF",
   "metadata": {
    "id": "9KfOFIpDnNyF"
   },
   "source": [
    "# MODELAMIENTO"
   ]
  },
  {
   "cell_type": "code",
   "execution_count": 27,
   "id": "OJNw9UC9KceQ",
   "metadata": {
    "colab": {
     "base_uri": "https://localhost:8080/",
     "height": 1000
    },
    "id": "OJNw9UC9KceQ",
    "outputId": "72586629-17be-4806-d8b7-cfe31c3a41ca"
   },
   "outputs": [
    {
     "name": "stderr",
     "output_type": "stream",
     "text": [
      "C:\\Users\\HP\\AppData\\Local\\Temp\\ipykernel_3952\\3759332822.py:6: SettingWithCopyWarning: \n",
      "A value is trying to be set on a copy of a slice from a DataFrame.\n",
      "Try using .loc[row_indexer,col_indexer] = value instead\n",
      "\n",
      "See the caveats in the documentation: https://pandas.pydata.org/pandas-docs/stable/user_guide/indexing.html#returning-a-view-versus-a-copy\n",
      "  categorical[var] = le.fit_transform(categorical[var])\n"
     ]
    },
    {
     "data": {
      "text/html": [
       "<div>\n",
       "<style scoped>\n",
       "    .dataframe tbody tr th:only-of-type {\n",
       "        vertical-align: middle;\n",
       "    }\n",
       "\n",
       "    .dataframe tbody tr th {\n",
       "        vertical-align: top;\n",
       "    }\n",
       "\n",
       "    .dataframe thead th {\n",
       "        text-align: right;\n",
       "    }\n",
       "</style>\n",
       "<table border=\"1\" class=\"dataframe\">\n",
       "  <thead>\n",
       "    <tr style=\"text-align: right;\">\n",
       "      <th></th>\n",
       "      <th>Income</th>\n",
       "      <th>Children</th>\n",
       "      <th>Cars</th>\n",
       "      <th>Age</th>\n",
       "      <th>Marital Status</th>\n",
       "      <th>Gender</th>\n",
       "      <th>Education</th>\n",
       "      <th>Occupation</th>\n",
       "      <th>Home Owner</th>\n",
       "      <th>Commute Distance</th>\n",
       "      <th>Region</th>\n",
       "      <th>Purchased Bike</th>\n",
       "    </tr>\n",
       "  </thead>\n",
       "  <tbody>\n",
       "    <tr>\n",
       "      <th>0</th>\n",
       "      <td>-0.519461</td>\n",
       "      <td>-0.562487</td>\n",
       "      <td>-1.299062</td>\n",
       "      <td>-0.191347</td>\n",
       "      <td>0</td>\n",
       "      <td>0</td>\n",
       "      <td>0</td>\n",
       "      <td>4</td>\n",
       "      <td>1</td>\n",
       "      <td>0</td>\n",
       "      <td>0</td>\n",
       "      <td>0</td>\n",
       "    </tr>\n",
       "    <tr>\n",
       "      <th>1</th>\n",
       "      <td>-0.841450</td>\n",
       "      <td>0.672391</td>\n",
       "      <td>-0.403775</td>\n",
       "      <td>-0.103047</td>\n",
       "      <td>0</td>\n",
       "      <td>1</td>\n",
       "      <td>3</td>\n",
       "      <td>0</td>\n",
       "      <td>1</td>\n",
       "      <td>0</td>\n",
       "      <td>0</td>\n",
       "      <td>0</td>\n",
       "    </tr>\n",
       "    <tr>\n",
       "      <th>2</th>\n",
       "      <td>0.768495</td>\n",
       "      <td>1.907270</td>\n",
       "      <td>0.491513</td>\n",
       "      <td>1.398060</td>\n",
       "      <td>0</td>\n",
       "      <td>1</td>\n",
       "      <td>3</td>\n",
       "      <td>3</td>\n",
       "      <td>0</td>\n",
       "      <td>3</td>\n",
       "      <td>0</td>\n",
       "      <td>0</td>\n",
       "    </tr>\n",
       "    <tr>\n",
       "      <th>3</th>\n",
       "      <td>0.446506</td>\n",
       "      <td>-1.179927</td>\n",
       "      <td>-0.403775</td>\n",
       "      <td>-0.279647</td>\n",
       "      <td>1</td>\n",
       "      <td>1</td>\n",
       "      <td>0</td>\n",
       "      <td>3</td>\n",
       "      <td>1</td>\n",
       "      <td>4</td>\n",
       "      <td>2</td>\n",
       "      <td>1</td>\n",
       "    </tr>\n",
       "    <tr>\n",
       "      <th>4</th>\n",
       "      <td>-0.841450</td>\n",
       "      <td>-1.179927</td>\n",
       "      <td>-1.299062</td>\n",
       "      <td>-0.721149</td>\n",
       "      <td>1</td>\n",
       "      <td>1</td>\n",
       "      <td>0</td>\n",
       "      <td>0</td>\n",
       "      <td>0</td>\n",
       "      <td>0</td>\n",
       "      <td>0</td>\n",
       "      <td>1</td>\n",
       "    </tr>\n",
       "  </tbody>\n",
       "</table>\n",
       "</div>"
      ],
      "text/plain": [
       "     Income  Children      Cars       Age  Marital Status  Gender  Education  \\\n",
       "0 -0.519461 -0.562487 -1.299062 -0.191347               0       0          0   \n",
       "1 -0.841450  0.672391 -0.403775 -0.103047               0       1          3   \n",
       "2  0.768495  1.907270  0.491513  1.398060               0       1          3   \n",
       "3  0.446506 -1.179927 -0.403775 -0.279647               1       1          0   \n",
       "4 -0.841450 -1.179927 -1.299062 -0.721149               1       1          0   \n",
       "\n",
       "   Occupation  Home Owner  Commute Distance  Region  Purchased Bike  \n",
       "0           4           1                 0       0               0  \n",
       "1           0           1                 0       0               0  \n",
       "2           3           0                 3       0               0  \n",
       "3           3           1                 4       2               1  \n",
       "4           0           0                 0       0               1  "
      ]
     },
     "execution_count": 27,
     "metadata": {},
     "output_type": "execute_result"
    }
   ],
   "source": [
    "#TRANSFORMACION VARIABLES CATEGORICAS\n",
    "categorics = ['Marital Status', 'Gender', 'Education', 'Occupation', 'Home Owner', 'Commute Distance', 'Region', 'Purchased Bike']\n",
    "le = LabelEncoder()\n",
    "categorical = bikes[categorics]\n",
    "for var in categorical:\n",
    "    categorical[var] = le.fit_transform(categorical[var])\n",
    "\n",
    "#TRANSFORMACION VARIABLES NUMERICAS\n",
    "numerics = ['Income', 'Children', 'Cars', 'Age']\n",
    "scaler = StandardScaler()\n",
    "numerical = bikes[numerics]\n",
    "numerical = pd.DataFrame(scaler.fit_transform(numerical),\n",
    "                         columns=['Income', 'Children', 'Cars', 'Age'],index= numerical.index)\n",
    "\n",
    "preprocessed_data = pd.merge(numerical, categorical, left_index=True, right_index=True)\n",
    "preprocessed_data.head()"
   ]
  },
  {
   "cell_type": "code",
   "execution_count": 43,
   "id": "2DQxYLs0B_Pl",
   "metadata": {
    "id": "2DQxYLs0B_Pl"
   },
   "outputs": [
    {
     "data": {
      "text/html": [
       "<div>\n",
       "<style scoped>\n",
       "    .dataframe tbody tr th:only-of-type {\n",
       "        vertical-align: middle;\n",
       "    }\n",
       "\n",
       "    .dataframe tbody tr th {\n",
       "        vertical-align: top;\n",
       "    }\n",
       "\n",
       "    .dataframe thead th {\n",
       "        text-align: right;\n",
       "    }\n",
       "</style>\n",
       "<table border=\"1\" class=\"dataframe\">\n",
       "  <thead>\n",
       "    <tr style=\"text-align: right;\">\n",
       "      <th></th>\n",
       "      <th>Income</th>\n",
       "      <th>Children</th>\n",
       "      <th>Cars</th>\n",
       "      <th>Age</th>\n",
       "      <th>Marital Status</th>\n",
       "      <th>Gender</th>\n",
       "      <th>Education</th>\n",
       "      <th>Occupation</th>\n",
       "      <th>Home Owner</th>\n",
       "      <th>Commute Distance</th>\n",
       "      <th>Region</th>\n",
       "      <th>Purchased Bike</th>\n",
       "    </tr>\n",
       "  </thead>\n",
       "  <tbody>\n",
       "    <tr>\n",
       "      <th>0</th>\n",
       "      <td>-0.519461</td>\n",
       "      <td>-0.562487</td>\n",
       "      <td>-1.299062</td>\n",
       "      <td>-0.191347</td>\n",
       "      <td>0</td>\n",
       "      <td>0</td>\n",
       "      <td>0</td>\n",
       "      <td>4</td>\n",
       "      <td>1</td>\n",
       "      <td>0</td>\n",
       "      <td>0</td>\n",
       "      <td>0</td>\n",
       "    </tr>\n",
       "    <tr>\n",
       "      <th>1</th>\n",
       "      <td>-0.841450</td>\n",
       "      <td>0.672391</td>\n",
       "      <td>-0.403775</td>\n",
       "      <td>-0.103047</td>\n",
       "      <td>0</td>\n",
       "      <td>1</td>\n",
       "      <td>3</td>\n",
       "      <td>0</td>\n",
       "      <td>1</td>\n",
       "      <td>0</td>\n",
       "      <td>0</td>\n",
       "      <td>0</td>\n",
       "    </tr>\n",
       "    <tr>\n",
       "      <th>2</th>\n",
       "      <td>0.768495</td>\n",
       "      <td>1.907270</td>\n",
       "      <td>0.491513</td>\n",
       "      <td>1.398060</td>\n",
       "      <td>0</td>\n",
       "      <td>1</td>\n",
       "      <td>3</td>\n",
       "      <td>3</td>\n",
       "      <td>0</td>\n",
       "      <td>3</td>\n",
       "      <td>0</td>\n",
       "      <td>0</td>\n",
       "    </tr>\n",
       "    <tr>\n",
       "      <th>3</th>\n",
       "      <td>0.446506</td>\n",
       "      <td>-1.179927</td>\n",
       "      <td>-0.403775</td>\n",
       "      <td>-0.279647</td>\n",
       "      <td>1</td>\n",
       "      <td>1</td>\n",
       "      <td>0</td>\n",
       "      <td>3</td>\n",
       "      <td>1</td>\n",
       "      <td>4</td>\n",
       "      <td>2</td>\n",
       "      <td>1</td>\n",
       "    </tr>\n",
       "    <tr>\n",
       "      <th>4</th>\n",
       "      <td>-0.841450</td>\n",
       "      <td>-1.179927</td>\n",
       "      <td>-1.299062</td>\n",
       "      <td>-0.721149</td>\n",
       "      <td>1</td>\n",
       "      <td>1</td>\n",
       "      <td>0</td>\n",
       "      <td>0</td>\n",
       "      <td>0</td>\n",
       "      <td>0</td>\n",
       "      <td>0</td>\n",
       "      <td>1</td>\n",
       "    </tr>\n",
       "  </tbody>\n",
       "</table>\n",
       "</div>"
      ],
      "text/plain": [
       "     Income  Children      Cars       Age  Marital Status  Gender  Education  \\\n",
       "0 -0.519461 -0.562487 -1.299062 -0.191347               0       0          0   \n",
       "1 -0.841450  0.672391 -0.403775 -0.103047               0       1          3   \n",
       "2  0.768495  1.907270  0.491513  1.398060               0       1          3   \n",
       "3  0.446506 -1.179927 -0.403775 -0.279647               1       1          0   \n",
       "4 -0.841450 -1.179927 -1.299062 -0.721149               1       1          0   \n",
       "\n",
       "   Occupation  Home Owner  Commute Distance  Region  Purchased Bike  \n",
       "0           4           1                 0       0               0  \n",
       "1           0           1                 0       0               0  \n",
       "2           3           0                 3       0               0  \n",
       "3           3           1                 4       2               1  \n",
       "4           0           0                 0       0               1  "
      ]
     },
     "execution_count": 43,
     "metadata": {},
     "output_type": "execute_result"
    }
   ],
   "source": [
    "preprocessed_data.head()"
   ]
  },
  {
   "cell_type": "code",
   "execution_count": 44,
   "id": "c3e845a3",
   "metadata": {
    "id": "c3e845a3"
   },
   "outputs": [],
   "source": [
    "X = preprocessed_data.drop(['Purchased Bike'], axis=1)\n",
    "y = preprocessed_data['Purchased Bike']\n",
    "X_train, X_test, y_train, y_test = train_test_split(X, y, test_size=0.2, random_state = 42,stratify = y)"
   ]
  },
  {
   "cell_type": "code",
   "execution_count": 45,
   "id": "rOOamd3xnKl_",
   "metadata": {
    "colab": {
     "base_uri": "https://localhost:8080/"
    },
    "id": "rOOamd3xnKl_",
    "outputId": "bddb051f-18c6-4874-e778-6aaab34d56ef"
   },
   "outputs": [],
   "source": [
    "model = LogisticRegression(solver='lbfgs', max_iter=1000)\n",
    "model.fit(X_train, y_train)\n",
    "\n",
    "y_pred_train = model.predict(X_train)\n",
    "y_pred_test= model.predict(X_test)"
   ]
  },
  {
   "cell_type": "code",
   "execution_count": 46,
   "id": "325cfdec",
   "metadata": {},
   "outputs": [
    {
     "data": {
      "text/plain": [
       "(array([  6.,  42., 122., 136., 135., 126.,  78.,  97.,  48.,  10.]),\n",
       " array([0.15512524, 0.22239215, 0.28965906, 0.35692597, 0.42419288,\n",
       "        0.49145979, 0.5587267 , 0.62599361, 0.69326052, 0.76052743,\n",
       "        0.82779434]),\n",
       " <BarContainer object of 10 artists>)"
      ]
     },
     "execution_count": 46,
     "metadata": {},
     "output_type": "execute_result"
    },
    {
     "data": {
      "image/png": "[encoded data removed]",
      "text/plain": [
       "<Figure size 640x480 with 1 Axes>"
      ]
     },
     "metadata": {},
     "output_type": "display_data"
    }
   ],
   "source": [
    "#Probabilidades con train\n",
    "prob_train_rl = model.predict_proba(X_train)[:,1]\n",
    "plt.hist(prob_train_rl, color = '#ff74c6', rwidth=0.9)"
   ]
  },
  {
   "cell_type": "code",
   "execution_count": 47,
   "id": "hQKErnGGxpJl",
   "metadata": {
    "id": "hQKErnGGxpJl"
   },
   "outputs": [
    {
     "data": {
      "image/png": "[encoded data removed]",
      "text/plain": [
       "<Figure size 640x480 with 1 Axes>"
      ]
     },
     "metadata": {},
     "output_type": "display_data"
    }
   ],
   "source": [
    "#Probablidades con test\n",
    "prob_test_rl = model.predict_proba(X_test)[:,1]\n",
    "plt.hist(prob_test_rl, color = '#ea068d', rwidth=0.9)\n",
    "plt.show()"
   ]
  },
  {
   "cell_type": "markdown",
   "id": "-a78AiqerISc",
   "metadata": {
    "id": "-a78AiqerISc"
   },
   "source": [
    "# EVALUACIÓN\n"
   ]
  },
  {
   "cell_type": "code",
   "execution_count": 48,
   "id": "cb763ba6",
   "metadata": {},
   "outputs": [
    {
     "name": "stdout",
     "output_type": "stream",
     "text": [
      "              precision    recall  f1-score   support\n",
      "\n",
      "           0       0.66      0.74      0.70       104\n",
      "           1       0.68      0.59      0.63        96\n",
      "\n",
      "    accuracy                           0.67       200\n",
      "   macro avg       0.67      0.67      0.67       200\n",
      "weighted avg       0.67      0.67      0.67       200\n",
      "\n"
     ]
    }
   ],
   "source": [
    "print(classification_report(y_test,y_pred_test))"
   ]
  },
  {
   "cell_type": "code",
   "execution_count": 59,
   "id": "09513962",
   "metadata": {},
   "outputs": [
    {
     "data": {
      "text/plain": [
       "0.6889523237179487"
      ]
     },
     "execution_count": 59,
     "metadata": {},
     "output_type": "execute_result"
    }
   ],
   "source": [
    "## AUC: Area bajo la curva\n",
    "auc_rl = metrics.roc_auc_score(y_test, prob_test_rl)\n",
    "auc_rl"
   ]
  },
  {
   "cell_type": "code",
   "execution_count": 62,
   "id": "c57e51e5",
   "metadata": {},
   "outputs": [
    {
     "data": {
      "image/png": "[encoded data removed]",
      "text/plain": [
       "<Figure size 640x480 with 1 Axes>"
      ]
     },
     "metadata": {},
     "output_type": "display_data"
    }
   ],
   "source": [
    "fpr, tpr, thresholds = metrics.roc_curve(y_test, prob_test_rl)\n",
    "plt.plot(fpr, tpr, label= \"AUC = \" + str(auc_rl.round(3)), color='#ea068d')\n",
    "plt.plot([0, 1], [0, 1], linestyle='--', color='gray')\n",
    "plt.title('ROC CURVE and AUC for Logistic Regression')\n",
    "plt.xlabel('False Positive Rate') \n",
    "plt.ylabel('True Positive Rate')\n",
    "plt.legend(bbox_to_anchor=(.5,-0.23), loc='upper center')\n",
    "plt.savefig('ROC_CURVES_logreg.png', bbox_inches='tight')"
   ]
  },
  {
   "cell_type": "markdown",
   "id": "e73aa8d3",
   "metadata": {},
   "source": [
    "## Resultados"
   ]
  },
  {
   "cell_type": "code",
   "execution_count": 49,
   "id": "b8f24e61",
   "metadata": {},
   "outputs": [],
   "source": [
    "# Asignamos las probabilidades a los datos transformados\n",
    "probabilidad = list(prob_test_rl.round(3))\n",
    "probabilidad_train = list(prob_train_rl.round(3))\n",
    "X_test['PROBABILIDAD'] = probabilidad\n",
    "X_train['PROBABILIDAD'] = probabilidad_train"
   ]
  },
  {
   "cell_type": "code",
   "execution_count": 50,
   "id": "30bef903",
   "metadata": {},
   "outputs": [],
   "source": [
    "# Ordenamos de mayor a menor las probabilidades\n",
    "X_train = X_train.sort_values(['PROBABILIDAD'], ascending=False)\n",
    "X_test = X_test.sort_values(['PROBABILIDAD'], ascending=False)"
   ]
  },
  {
   "cell_type": "code",
   "execution_count": 51,
   "id": "29207c18",
   "metadata": {},
   "outputs": [],
   "source": [
    "# Creamos grupos de probabilidad para la muestra de entrenamiento\n",
    "X_train['GRUPOS'] = pd.qcut(X_train['PROBABILIDAD'], 10, labels=[10,9,8,7,6,5,4,3,2,1])"
   ]
  },
  {
   "cell_type": "code",
   "execution_count": 52,
   "id": "e1790863",
   "metadata": {},
   "outputs": [],
   "source": [
    "# Creamos grupos de probabilidad para la muestra de validación\n",
    "X_test['GRUPOS'] = pd.qcut(X_test['PROBABILIDAD'], 10, labels=[10,9,8,7,6,5,4,3,2,1])"
   ]
  },
  {
   "cell_type": "code",
   "execution_count": 53,
   "id": "3f4a08d3",
   "metadata": {},
   "outputs": [],
   "source": [
    "# Añadimos los identificadores de clientes\n",
    "final_train = X_train.merge(target, how='left', left_index=True, right_index=True, sort=False)\n",
    "final_test = X_test.merge(target, how='left', left_index=True, right_index=True, sort=False)"
   ]
  },
  {
   "cell_type": "code",
   "execution_count": 54,
   "id": "606c3fa8",
   "metadata": {},
   "outputs": [
    {
     "data": {
      "text/html": [
       "<div>\n",
       "<style scoped>\n",
       "    .dataframe tbody tr th:only-of-type {\n",
       "        vertical-align: middle;\n",
       "    }\n",
       "\n",
       "    .dataframe tbody tr th {\n",
       "        vertical-align: top;\n",
       "    }\n",
       "\n",
       "    .dataframe thead th {\n",
       "        text-align: right;\n",
       "    }\n",
       "</style>\n",
       "<table border=\"1\" class=\"dataframe\">\n",
       "  <thead>\n",
       "    <tr style=\"text-align: right;\">\n",
       "      <th></th>\n",
       "      <th>Income</th>\n",
       "      <th>Children</th>\n",
       "      <th>Cars</th>\n",
       "      <th>Age</th>\n",
       "      <th>Marital Status</th>\n",
       "      <th>Gender</th>\n",
       "      <th>Education</th>\n",
       "      <th>Occupation</th>\n",
       "      <th>Home Owner</th>\n",
       "      <th>Commute Distance</th>\n",
       "      <th>Region</th>\n",
       "      <th>PROBABILIDAD</th>\n",
       "      <th>GRUPOS</th>\n",
       "      <th>ID</th>\n",
       "      <th>Purchased Bike</th>\n",
       "    </tr>\n",
       "  </thead>\n",
       "  <tbody>\n",
       "    <tr>\n",
       "      <th>288</th>\n",
       "      <td>2.378440</td>\n",
       "      <td>-1.179927</td>\n",
       "      <td>-1.299062</td>\n",
       "      <td>0.338455</td>\n",
       "      <td>0</td>\n",
       "      <td>1</td>\n",
       "      <td>1</td>\n",
       "      <td>1</td>\n",
       "      <td>1</td>\n",
       "      <td>4</td>\n",
       "      <td>2</td>\n",
       "      <td>0.828</td>\n",
       "      <td>1</td>\n",
       "      <td>15758</td>\n",
       "      <td>0</td>\n",
       "    </tr>\n",
       "    <tr>\n",
       "      <th>407</th>\n",
       "      <td>1.090484</td>\n",
       "      <td>0.054952</td>\n",
       "      <td>-1.299062</td>\n",
       "      <td>-0.721149</td>\n",
       "      <td>0</td>\n",
       "      <td>0</td>\n",
       "      <td>0</td>\n",
       "      <td>3</td>\n",
       "      <td>0</td>\n",
       "      <td>0</td>\n",
       "      <td>2</td>\n",
       "      <td>0.825</td>\n",
       "      <td>1</td>\n",
       "      <td>27582</td>\n",
       "      <td>1</td>\n",
       "    </tr>\n",
       "    <tr>\n",
       "      <th>427</th>\n",
       "      <td>1.090484</td>\n",
       "      <td>-0.562487</td>\n",
       "      <td>-1.299062</td>\n",
       "      <td>-0.721149</td>\n",
       "      <td>0</td>\n",
       "      <td>0</td>\n",
       "      <td>1</td>\n",
       "      <td>1</td>\n",
       "      <td>1</td>\n",
       "      <td>0</td>\n",
       "      <td>2</td>\n",
       "      <td>0.822</td>\n",
       "      <td>1</td>\n",
       "      <td>17048</td>\n",
       "      <td>1</td>\n",
       "    </tr>\n",
       "    <tr>\n",
       "      <th>113</th>\n",
       "      <td>2.378440</td>\n",
       "      <td>-0.562487</td>\n",
       "      <td>-0.403775</td>\n",
       "      <td>-0.721149</td>\n",
       "      <td>0</td>\n",
       "      <td>0</td>\n",
       "      <td>1</td>\n",
       "      <td>1</td>\n",
       "      <td>0</td>\n",
       "      <td>0</td>\n",
       "      <td>2</td>\n",
       "      <td>0.822</td>\n",
       "      <td>1</td>\n",
       "      <td>29191</td>\n",
       "      <td>1</td>\n",
       "    </tr>\n",
       "    <tr>\n",
       "      <th>275</th>\n",
       "      <td>1.090484</td>\n",
       "      <td>-0.562487</td>\n",
       "      <td>-1.299062</td>\n",
       "      <td>-0.632849</td>\n",
       "      <td>0</td>\n",
       "      <td>0</td>\n",
       "      <td>1</td>\n",
       "      <td>1</td>\n",
       "      <td>1</td>\n",
       "      <td>0</td>\n",
       "      <td>2</td>\n",
       "      <td>0.820</td>\n",
       "      <td>1</td>\n",
       "      <td>26654</td>\n",
       "      <td>1</td>\n",
       "    </tr>\n",
       "  </tbody>\n",
       "</table>\n",
       "</div>"
      ],
      "text/plain": [
       "       Income  Children      Cars       Age  Marital Status  Gender  \\\n",
       "288  2.378440 -1.179927 -1.299062  0.338455               0       1   \n",
       "407  1.090484  0.054952 -1.299062 -0.721149               0       0   \n",
       "427  1.090484 -0.562487 -1.299062 -0.721149               0       0   \n",
       "113  2.378440 -0.562487 -0.403775 -0.721149               0       0   \n",
       "275  1.090484 -0.562487 -1.299062 -0.632849               0       0   \n",
       "\n",
       "     Education  Occupation  Home Owner  Commute Distance  Region  \\\n",
       "288          1           1           1                 4       2   \n",
       "407          0           3           0                 0       2   \n",
       "427          1           1           1                 0       2   \n",
       "113          1           1           0                 0       2   \n",
       "275          1           1           1                 0       2   \n",
       "\n",
       "     PROBABILIDAD GRUPOS     ID  Purchased Bike  \n",
       "288         0.828      1  15758               0  \n",
       "407         0.825      1  27582               1  \n",
       "427         0.822      1  17048               1  \n",
       "113         0.822      1  29191               1  \n",
       "275         0.820      1  26654               1  "
      ]
     },
     "execution_count": 54,
     "metadata": {},
     "output_type": "execute_result"
    }
   ],
   "source": [
    "final_train.head()"
   ]
  },
  {
   "cell_type": "code",
   "execution_count": 64,
   "id": "7264c976",
   "metadata": {},
   "outputs": [
    {
     "data": {
      "text/html": [
       "<div>\n",
       "<style scoped>\n",
       "    .dataframe tbody tr th:only-of-type {\n",
       "        vertical-align: middle;\n",
       "    }\n",
       "\n",
       "    .dataframe tbody tr th {\n",
       "        vertical-align: top;\n",
       "    }\n",
       "\n",
       "    .dataframe thead th {\n",
       "        text-align: right;\n",
       "    }\n",
       "</style>\n",
       "<table border=\"1\" class=\"dataframe\">\n",
       "  <thead>\n",
       "    <tr style=\"text-align: right;\">\n",
       "      <th></th>\n",
       "      <th>GRUPOS</th>\n",
       "      <th>Clientes Potenciales</th>\n",
       "      <th>Min</th>\n",
       "      <th>Max</th>\n",
       "      <th>%Compra (Estimado)</th>\n",
       "      <th>Compras</th>\n",
       "      <th>%Compra (Real)</th>\n",
       "    </tr>\n",
       "  </thead>\n",
       "  <tbody>\n",
       "    <tr>\n",
       "      <th>9</th>\n",
       "      <td>1</td>\n",
       "      <td>79</td>\n",
       "      <td>0.676</td>\n",
       "      <td>0.828</td>\n",
       "      <td>0.722228</td>\n",
       "      <td>52</td>\n",
       "      <td>0.658228</td>\n",
       "    </tr>\n",
       "    <tr>\n",
       "      <th>8</th>\n",
       "      <td>2</td>\n",
       "      <td>81</td>\n",
       "      <td>0.624</td>\n",
       "      <td>0.675</td>\n",
       "      <td>0.645914</td>\n",
       "      <td>55</td>\n",
       "      <td>0.679012</td>\n",
       "    </tr>\n",
       "    <tr>\n",
       "      <th>7</th>\n",
       "      <td>3</td>\n",
       "      <td>80</td>\n",
       "      <td>0.555</td>\n",
       "      <td>0.623</td>\n",
       "      <td>0.589512</td>\n",
       "      <td>57</td>\n",
       "      <td>0.712500</td>\n",
       "    </tr>\n",
       "    <tr>\n",
       "      <th>6</th>\n",
       "      <td>4</td>\n",
       "      <td>78</td>\n",
       "      <td>0.516</td>\n",
       "      <td>0.554</td>\n",
       "      <td>0.532333</td>\n",
       "      <td>42</td>\n",
       "      <td>0.538462</td>\n",
       "    </tr>\n",
       "    <tr>\n",
       "      <th>5</th>\n",
       "      <td>5</td>\n",
       "      <td>82</td>\n",
       "      <td>0.470</td>\n",
       "      <td>0.515</td>\n",
       "      <td>0.492683</td>\n",
       "      <td>37</td>\n",
       "      <td>0.451220</td>\n",
       "    </tr>\n",
       "    <tr>\n",
       "      <th>4</th>\n",
       "      <td>6</td>\n",
       "      <td>80</td>\n",
       "      <td>0.429</td>\n",
       "      <td>0.469</td>\n",
       "      <td>0.449413</td>\n",
       "      <td>33</td>\n",
       "      <td>0.412500</td>\n",
       "    </tr>\n",
       "    <tr>\n",
       "      <th>3</th>\n",
       "      <td>7</td>\n",
       "      <td>80</td>\n",
       "      <td>0.389</td>\n",
       "      <td>0.427</td>\n",
       "      <td>0.409700</td>\n",
       "      <td>30</td>\n",
       "      <td>0.375000</td>\n",
       "    </tr>\n",
       "    <tr>\n",
       "      <th>2</th>\n",
       "      <td>8</td>\n",
       "      <td>80</td>\n",
       "      <td>0.351</td>\n",
       "      <td>0.388</td>\n",
       "      <td>0.370437</td>\n",
       "      <td>32</td>\n",
       "      <td>0.400000</td>\n",
       "    </tr>\n",
       "    <tr>\n",
       "      <th>1</th>\n",
       "      <td>9</td>\n",
       "      <td>80</td>\n",
       "      <td>0.308</td>\n",
       "      <td>0.350</td>\n",
       "      <td>0.329875</td>\n",
       "      <td>26</td>\n",
       "      <td>0.325000</td>\n",
       "    </tr>\n",
       "    <tr>\n",
       "      <th>0</th>\n",
       "      <td>10</td>\n",
       "      <td>80</td>\n",
       "      <td>0.155</td>\n",
       "      <td>0.307</td>\n",
       "      <td>0.272313</td>\n",
       "      <td>21</td>\n",
       "      <td>0.262500</td>\n",
       "    </tr>\n",
       "  </tbody>\n",
       "</table>\n",
       "</div>"
      ],
      "text/plain": [
       "  GRUPOS  Clientes Potenciales    Min    Max  %Compra (Estimado)  Compras  \\\n",
       "9      1                    79  0.676  0.828            0.722228       52   \n",
       "8      2                    81  0.624  0.675            0.645914       55   \n",
       "7      3                    80  0.555  0.623            0.589512       57   \n",
       "6      4                    78  0.516  0.554            0.532333       42   \n",
       "5      5                    82  0.470  0.515            0.492683       37   \n",
       "4      6                    80  0.429  0.469            0.449413       33   \n",
       "3      7                    80  0.389  0.427            0.409700       30   \n",
       "2      8                    80  0.351  0.388            0.370437       32   \n",
       "1      9                    80  0.308  0.350            0.329875       26   \n",
       "0     10                    80  0.155  0.307            0.272313       21   \n",
       "\n",
       "   %Compra (Real)  \n",
       "9        0.658228  \n",
       "8        0.679012  \n",
       "7        0.712500  \n",
       "6        0.538462  \n",
       "5        0.451220  \n",
       "4        0.412500  \n",
       "3        0.375000  \n",
       "2        0.400000  \n",
       "1        0.325000  \n",
       "0        0.262500  "
      ]
     },
     "execution_count": 64,
     "metadata": {},
     "output_type": "execute_result"
    }
   ],
   "source": [
    "# Creamos una tabla resumen para la muestra de entrenamiento, donde debe mostrarse:\n",
    "resumen_train = final_train.groupby('GRUPOS')['PROBABILIDAD'].agg(['count','min','max','mean']).reset_index().sort_values(['GRUPOS'], ascending=False)\n",
    "ventas_train = final_train.groupby('GRUPOS')['Purchased Bike'].agg(['sum', 'min', 'max', 'mean']).reset_index().sort_values(['GRUPOS'], ascending=False)\n",
    "resumen_train = pd.merge(resumen_train, ventas_train[['sum','mean']], left_index=True, right_index=True)\n",
    "resumen_train.rename(columns={'count' : 'Clientes Potenciales', 'min' : 'Min', 'max': 'Max', 'sum': 'Compras', 'mean_x' : '%Compra (Estimado)', 'mean_y' : '%Compra (Real)'}, inplace = True)\n",
    "resumen_train"
   ]
  },
  {
   "cell_type": "code",
   "execution_count": 63,
   "id": "64e2076e",
   "metadata": {},
   "outputs": [
    {
     "data": {
      "text/html": [
       "<div>\n",
       "<style scoped>\n",
       "    .dataframe tbody tr th:only-of-type {\n",
       "        vertical-align: middle;\n",
       "    }\n",
       "\n",
       "    .dataframe tbody tr th {\n",
       "        vertical-align: top;\n",
       "    }\n",
       "\n",
       "    .dataframe thead th {\n",
       "        text-align: right;\n",
       "    }\n",
       "</style>\n",
       "<table border=\"1\" class=\"dataframe\">\n",
       "  <thead>\n",
       "    <tr style=\"text-align: right;\">\n",
       "      <th></th>\n",
       "      <th>GRUPOS</th>\n",
       "      <th>Clientes Potenciales</th>\n",
       "      <th>Min</th>\n",
       "      <th>Max</th>\n",
       "      <th>%Compra (Estimado)</th>\n",
       "      <th>Compras</th>\n",
       "      <th>%Compra (Real)</th>\n",
       "    </tr>\n",
       "  </thead>\n",
       "  <tbody>\n",
       "    <tr>\n",
       "      <th>9</th>\n",
       "      <td>1</td>\n",
       "      <td>20</td>\n",
       "      <td>0.706</td>\n",
       "      <td>0.825</td>\n",
       "      <td>0.735900</td>\n",
       "      <td>9</td>\n",
       "      <td>0.450000</td>\n",
       "    </tr>\n",
       "    <tr>\n",
       "      <th>8</th>\n",
       "      <td>2</td>\n",
       "      <td>20</td>\n",
       "      <td>0.644</td>\n",
       "      <td>0.702</td>\n",
       "      <td>0.675500</td>\n",
       "      <td>18</td>\n",
       "      <td>0.900000</td>\n",
       "    </tr>\n",
       "    <tr>\n",
       "      <th>7</th>\n",
       "      <td>3</td>\n",
       "      <td>20</td>\n",
       "      <td>0.571</td>\n",
       "      <td>0.642</td>\n",
       "      <td>0.606500</td>\n",
       "      <td>16</td>\n",
       "      <td>0.800000</td>\n",
       "    </tr>\n",
       "    <tr>\n",
       "      <th>6</th>\n",
       "      <td>4</td>\n",
       "      <td>19</td>\n",
       "      <td>0.521</td>\n",
       "      <td>0.567</td>\n",
       "      <td>0.543789</td>\n",
       "      <td>11</td>\n",
       "      <td>0.578947</td>\n",
       "    </tr>\n",
       "    <tr>\n",
       "      <th>5</th>\n",
       "      <td>5</td>\n",
       "      <td>21</td>\n",
       "      <td>0.456</td>\n",
       "      <td>0.520</td>\n",
       "      <td>0.484000</td>\n",
       "      <td>12</td>\n",
       "      <td>0.571429</td>\n",
       "    </tr>\n",
       "    <tr>\n",
       "      <th>4</th>\n",
       "      <td>6</td>\n",
       "      <td>19</td>\n",
       "      <td>0.422</td>\n",
       "      <td>0.455</td>\n",
       "      <td>0.436316</td>\n",
       "      <td>6</td>\n",
       "      <td>0.315789</td>\n",
       "    </tr>\n",
       "    <tr>\n",
       "      <th>3</th>\n",
       "      <td>7</td>\n",
       "      <td>20</td>\n",
       "      <td>0.382</td>\n",
       "      <td>0.420</td>\n",
       "      <td>0.401450</td>\n",
       "      <td>7</td>\n",
       "      <td>0.350000</td>\n",
       "    </tr>\n",
       "    <tr>\n",
       "      <th>2</th>\n",
       "      <td>8</td>\n",
       "      <td>21</td>\n",
       "      <td>0.340</td>\n",
       "      <td>0.379</td>\n",
       "      <td>0.359667</td>\n",
       "      <td>7</td>\n",
       "      <td>0.333333</td>\n",
       "    </tr>\n",
       "    <tr>\n",
       "      <th>1</th>\n",
       "      <td>9</td>\n",
       "      <td>20</td>\n",
       "      <td>0.295</td>\n",
       "      <td>0.338</td>\n",
       "      <td>0.319350</td>\n",
       "      <td>5</td>\n",
       "      <td>0.250000</td>\n",
       "    </tr>\n",
       "    <tr>\n",
       "      <th>0</th>\n",
       "      <td>10</td>\n",
       "      <td>20</td>\n",
       "      <td>0.202</td>\n",
       "      <td>0.290</td>\n",
       "      <td>0.262550</td>\n",
       "      <td>5</td>\n",
       "      <td>0.250000</td>\n",
       "    </tr>\n",
       "  </tbody>\n",
       "</table>\n",
       "</div>"
      ],
      "text/plain": [
       "  GRUPOS  Clientes Potenciales    Min    Max  %Compra (Estimado)  Compras  \\\n",
       "9      1                    20  0.706  0.825            0.735900        9   \n",
       "8      2                    20  0.644  0.702            0.675500       18   \n",
       "7      3                    20  0.571  0.642            0.606500       16   \n",
       "6      4                    19  0.521  0.567            0.543789       11   \n",
       "5      5                    21  0.456  0.520            0.484000       12   \n",
       "4      6                    19  0.422  0.455            0.436316        6   \n",
       "3      7                    20  0.382  0.420            0.401450        7   \n",
       "2      8                    21  0.340  0.379            0.359667        7   \n",
       "1      9                    20  0.295  0.338            0.319350        5   \n",
       "0     10                    20  0.202  0.290            0.262550        5   \n",
       "\n",
       "   %Compra (Real)  \n",
       "9        0.450000  \n",
       "8        0.900000  \n",
       "7        0.800000  \n",
       "6        0.578947  \n",
       "5        0.571429  \n",
       "4        0.315789  \n",
       "3        0.350000  \n",
       "2        0.333333  \n",
       "1        0.250000  \n",
       "0        0.250000  "
      ]
     },
     "execution_count": 63,
     "metadata": {},
     "output_type": "execute_result"
    }
   ],
   "source": [
    "# Creamos una tabla resumen para la muestra de validación, donde debe mostrarse:\n",
    "resumen_test = final_test.groupby('GRUPOS')['PROBABILIDAD'].agg(['count','min','max','mean']).reset_index().sort_values(['GRUPOS'], ascending=False)\n",
    "ventas_test = final_test.groupby('GRUPOS')['Purchased Bike'].agg(['sum', 'min', 'max', 'mean']).reset_index().sort_values(['GRUPOS'], ascending=False)\n",
    "resumen_test = pd.merge(resumen_test, ventas_test[['sum','mean']], left_index=True, right_index=True)\n",
    "resumen_test.rename(columns={'count' : 'Clientes Potenciales', 'min' : 'Min', 'max': 'Max', 'sum': 'Compras', 'mean_x' : '%Compra (Estimado)', 'mean_y' : '%Compra (Real)'}, inplace = True)\n",
    "resumen_test"
   ]
  },
  {
   "cell_type": "code",
   "execution_count": null,
   "id": "aa574531",
   "metadata": {},
   "outputs": [],
   "source": []
  }
 ],
 "metadata": {
  "colab": {
   "provenance": []
  },
  "kernelspec": {
   "display_name": "Python 3 (ipykernel)",
   "language": "python",
   "name": "python3"
  },
  "language_info": {
   "codemirror_mode": {
    "name": "ipython",
    "version": 3
   },
   "file_extension": ".py",
   "mimetype": "text/x-python",
   "name": "python",
   "nbconvert_exporter": "python",
   "pygments_lexer": "ipython3",
   "version": "3.10.4"
  }
 },
 "nbformat": 4,
 "nbformat_minor": 5
}
